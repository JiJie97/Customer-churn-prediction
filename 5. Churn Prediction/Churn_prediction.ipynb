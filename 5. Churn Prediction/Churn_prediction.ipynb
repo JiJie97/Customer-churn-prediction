{
 "cells": [
  {
   "cell_type": "markdown",
   "metadata": {},
   "source": [
    "# Churn List prediction for next year"
   ]
  },
  {
   "cell_type": "code",
   "execution_count": 111,
   "metadata": {},
   "outputs": [],
   "source": [
    "def LogicResult_churn_next_year(X_cur,y_cur,X_next,Penalty,c,Solver,table=False):\n",
    "\n",
    "    \n",
    "    scaler_current=StandardScaler()\n",
    "    scaler_current.fit(X_cur)\n",
    "    X_cur_scaled = pd.DataFrame(scaler_current.transform(X_cur),columns = X_cur.columns)\n",
    "    \n",
    "    X_next_feature=X_next.drop('CUSTOMER_SITE_ID',axis=1)\n",
    "    scaler_next=StandardScaler()\n",
    "    scaler_next.fit(X_next_feature)\n",
    "    X_next_feature_scaled = pd.DataFrame(scaler_next.transform(X_next_feature),columns = X_next_feature.columns)\n",
    "    \n",
    "    \n",
    "    #Lasso\n",
    "    classifier = LogisticRegression(random_state=0, penalty=Penalty,solver=Solver,C=c)\n",
    "    classifier.fit(X_cur_scaled, y_cur)\n",
    "    \n",
    "    coef_table = pd.DataFrame(list(X_cur.columns)).copy()\n",
    "    coef_table.insert(len(coef_table.columns),\"Coefs\",classifier.coef_.transpose())\n",
    "    coef_table.columns=['Variable','Coefs']\n",
    "    coef_table['Coefs_ABS']=coef_table['Coefs'].abs()\n",
    "    coef=coef_table.sort_values('Coefs_ABS',ascending=False).reset_index(drop=True)\n",
    "    coef=coef.drop('Coefs_ABS',axis=1)\n",
    "    \n",
    "    y_pred = classifier.predict(X_next_feature_scaled)\n",
    "    X_next['churn_pred'] = y_pred\n",
    "    churn_next=X_next[X_next['churn_pred']==1]\n",
    "    \n",
    "    if table == False:\n",
    "        return churn_next\n",
    "    else:\n",
    "        return coef"
   ]
  },
  {
   "cell_type": "markdown",
   "metadata": {},
   "source": [
    "## Tier 1"
   ]
  },
  {
   "cell_type": "code",
   "execution_count": 60,
   "metadata": {},
   "outputs": [],
   "source": [
    "sfm_rfe_19_1_next=SFM_RFE_featrue_selection(X1_19,y1_19,fit_all=True)\n",
    "best_pen,best_c,best_sol = best_Model(X1_19[sfm_rfe_19_1_next],y1_19,pen,c,solver,hyper_param=True)\n",
    "churn_20_1=LogicResult_churn_next_year(X1_19[sfm_rfe_19_1_next],y1_19,X1_20[['CUSTOMER_SITE_ID']+sfm_rfe_19_1_next]\\\n",
    "                                       ,best_pen,best_c,best_sol)"
   ]
  },
  {
   "cell_type": "code",
   "execution_count": 101,
   "metadata": {},
   "outputs": [],
   "source": [
    "watchlist_1 =churn_20_1[churn_20_1['Recency']<366]"
   ]
  },
  {
   "cell_type": "code",
   "execution_count": 102,
   "metadata": {},
   "outputs": [
    {
     "name": "stdout",
     "output_type": "stream",
     "text": [
      "3391\n",
      "218\n",
      "4\n"
     ]
    }
   ],
   "source": [
    "print(X1_20.shape[0])   #Total number of customer\n",
    "print(churn_20_1.shape[0]) #Total number on the predicted inactive customer for next year\n",
    "print(watchlist_1.shape[0]) #The customer that are active in the past year, but may churn in the following year"
   ]
  },
  {
   "cell_type": "code",
   "execution_count": 108,
   "metadata": {},
   "outputs": [
    {
     "data": {
      "text/html": [
       "<div>\n",
       "<style scoped>\n",
       "    .dataframe tbody tr th:only-of-type {\n",
       "        vertical-align: middle;\n",
       "    }\n",
       "\n",
       "    .dataframe tbody tr th {\n",
       "        vertical-align: top;\n",
       "    }\n",
       "\n",
       "    .dataframe thead th {\n",
       "        text-align: right;\n",
       "    }\n",
       "</style>\n",
       "<table border=\"1\" class=\"dataframe\">\n",
       "  <thead>\n",
       "    <tr style=\"text-align: right;\">\n",
       "      <th></th>\n",
       "      <th>CUSTOMER_SITE_ID</th>\n",
       "      <th>Recency</th>\n",
       "      <th>CUSTOMER_CLASS_OEM</th>\n",
       "      <th>Contract</th>\n",
       "      <th>Lastest_Amt_Ratio</th>\n",
       "      <th>Visit_per_TRX</th>\n",
       "      <th>churn_pred</th>\n",
       "    </tr>\n",
       "  </thead>\n",
       "  <tbody>\n",
       "    <tr>\n",
       "      <th>705</th>\n",
       "      <td>9949</td>\n",
       "      <td>337</td>\n",
       "      <td>0</td>\n",
       "      <td>0.0</td>\n",
       "      <td>0.441129</td>\n",
       "      <td>0.071429</td>\n",
       "      <td>1</td>\n",
       "    </tr>\n",
       "    <tr>\n",
       "      <th>1051</th>\n",
       "      <td>24190</td>\n",
       "      <td>323</td>\n",
       "      <td>0</td>\n",
       "      <td>10.0</td>\n",
       "      <td>0.061347</td>\n",
       "      <td>0.220974</td>\n",
       "      <td>1</td>\n",
       "    </tr>\n",
       "    <tr>\n",
       "      <th>1965</th>\n",
       "      <td>63817</td>\n",
       "      <td>351</td>\n",
       "      <td>0</td>\n",
       "      <td>0.0</td>\n",
       "      <td>0.559203</td>\n",
       "      <td>0.100000</td>\n",
       "      <td>1</td>\n",
       "    </tr>\n",
       "    <tr>\n",
       "      <th>10858</th>\n",
       "      <td>112402</td>\n",
       "      <td>359</td>\n",
       "      <td>0</td>\n",
       "      <td>0.0</td>\n",
       "      <td>0.171816</td>\n",
       "      <td>0.000000</td>\n",
       "      <td>1</td>\n",
       "    </tr>\n",
       "  </tbody>\n",
       "</table>\n",
       "</div>"
      ],
      "text/plain": [
       "       CUSTOMER_SITE_ID  Recency  CUSTOMER_CLASS_OEM  Contract  \\\n",
       "705                9949      337                   0       0.0   \n",
       "1051              24190      323                   0      10.0   \n",
       "1965              63817      351                   0       0.0   \n",
       "10858            112402      359                   0       0.0   \n",
       "\n",
       "       Lastest_Amt_Ratio  Visit_per_TRX  churn_pred  \n",
       "705             0.441129       0.071429           1  \n",
       "1051            0.061347       0.220974           1  \n",
       "1965            0.559203       0.100000           1  \n",
       "10858           0.171816       0.000000           1  "
      ]
     },
     "execution_count": 108,
     "metadata": {},
     "output_type": "execute_result"
    }
   ],
   "source": [
    "watchlist_1"
   ]
  },
  {
   "cell_type": "markdown",
   "metadata": {},
   "source": [
    "## Tier 2"
   ]
  },
  {
   "cell_type": "code",
   "execution_count": 64,
   "metadata": {},
   "outputs": [],
   "source": [
    "sfm_rfe_19_2_next=SFM_RFE_featrue_selection(X2_19,y2_19,fit_all=True)\n",
    "best_pen,best_c,best_sol = best_Model(X2_19[sfm_rfe_19_2_next],y2_19,pen,c,solver,hyper_param=True)\n",
    "churn_20_2=LogicResult_churn_next_year(X2_19[sfm_rfe_19_2_next],y2_19,X2_20[['CUSTOMER_SITE_ID']+sfm_rfe_19_2_next]\\\n",
    "                                       ,best_pen,best_c,best_sol)"
   ]
  },
  {
   "cell_type": "code",
   "execution_count": 103,
   "metadata": {},
   "outputs": [],
   "source": [
    "watchlist_2 =churn_20_2[churn_20_2['Recency']<366]"
   ]
  },
  {
   "cell_type": "code",
   "execution_count": 104,
   "metadata": {},
   "outputs": [
    {
     "name": "stdout",
     "output_type": "stream",
     "text": [
      "5195\n",
      "787\n",
      "6\n"
     ]
    }
   ],
   "source": [
    "print(X2_20.shape[0])   #Total number of customer\n",
    "print(churn_20_2.shape[0]) #Total number on the predicted inactive customer for next year\n",
    "print(watchlist_2.shape[0]) #The customer that are active in the past year, but may churn in the following year"
   ]
  },
  {
   "cell_type": "code",
   "execution_count": 105,
   "metadata": {},
   "outputs": [
    {
     "data": {
      "text/html": [
       "<div>\n",
       "<style scoped>\n",
       "    .dataframe tbody tr th:only-of-type {\n",
       "        vertical-align: middle;\n",
       "    }\n",
       "\n",
       "    .dataframe tbody tr th {\n",
       "        vertical-align: top;\n",
       "    }\n",
       "\n",
       "    .dataframe thead th {\n",
       "        text-align: right;\n",
       "    }\n",
       "</style>\n",
       "<table border=\"1\" class=\"dataframe\">\n",
       "  <thead>\n",
       "    <tr style=\"text-align: right;\">\n",
       "      <th></th>\n",
       "      <th>CUSTOMER_SITE_ID</th>\n",
       "      <th>Frequency</th>\n",
       "      <th>Recency</th>\n",
       "      <th>Lastest_Amt_Ratio</th>\n",
       "      <th>Visit_per_TRX</th>\n",
       "      <th>Avg_AMT</th>\n",
       "      <th>churn_pred</th>\n",
       "    </tr>\n",
       "  </thead>\n",
       "  <tbody>\n",
       "    <tr>\n",
       "      <th>964</th>\n",
       "      <td>12910</td>\n",
       "      <td>7</td>\n",
       "      <td>252</td>\n",
       "      <td>1.406714</td>\n",
       "      <td>6.857143</td>\n",
       "      <td>14413.892857</td>\n",
       "      <td>1</td>\n",
       "    </tr>\n",
       "    <tr>\n",
       "      <th>1248</th>\n",
       "      <td>33594</td>\n",
       "      <td>80</td>\n",
       "      <td>318</td>\n",
       "      <td>0.378063</td>\n",
       "      <td>0.062500</td>\n",
       "      <td>105.304000</td>\n",
       "      <td>1</td>\n",
       "    </tr>\n",
       "    <tr>\n",
       "      <th>5136</th>\n",
       "      <td>367748</td>\n",
       "      <td>47</td>\n",
       "      <td>359</td>\n",
       "      <td>0.727133</td>\n",
       "      <td>0.574468</td>\n",
       "      <td>224.699574</td>\n",
       "      <td>1</td>\n",
       "    </tr>\n",
       "    <tr>\n",
       "      <th>5578</th>\n",
       "      <td>491145</td>\n",
       "      <td>102</td>\n",
       "      <td>33</td>\n",
       "      <td>0.970602</td>\n",
       "      <td>0.156863</td>\n",
       "      <td>46.791765</td>\n",
       "      <td>1</td>\n",
       "    </tr>\n",
       "    <tr>\n",
       "      <th>5849</th>\n",
       "      <td>534196</td>\n",
       "      <td>6</td>\n",
       "      <td>23</td>\n",
       "      <td>1.542149</td>\n",
       "      <td>6.333333</td>\n",
       "      <td>19449.466667</td>\n",
       "      <td>1</td>\n",
       "    </tr>\n",
       "    <tr>\n",
       "      <th>10577</th>\n",
       "      <td>70320</td>\n",
       "      <td>3</td>\n",
       "      <td>48</td>\n",
       "      <td>1.889250</td>\n",
       "      <td>0.666667</td>\n",
       "      <td>10082.570000</td>\n",
       "      <td>1</td>\n",
       "    </tr>\n",
       "  </tbody>\n",
       "</table>\n",
       "</div>"
      ],
      "text/plain": [
       "       CUSTOMER_SITE_ID  Frequency  Recency  Lastest_Amt_Ratio  Visit_per_TRX  \\\n",
       "964               12910          7      252           1.406714       6.857143   \n",
       "1248              33594         80      318           0.378063       0.062500   \n",
       "5136             367748         47      359           0.727133       0.574468   \n",
       "5578             491145        102       33           0.970602       0.156863   \n",
       "5849             534196          6       23           1.542149       6.333333   \n",
       "10577             70320          3       48           1.889250       0.666667   \n",
       "\n",
       "            Avg_AMT  churn_pred  \n",
       "964    14413.892857           1  \n",
       "1248     105.304000           1  \n",
       "5136     224.699574           1  \n",
       "5578      46.791765           1  \n",
       "5849   19449.466667           1  \n",
       "10577  10082.570000           1  "
      ]
     },
     "execution_count": 105,
     "metadata": {},
     "output_type": "execute_result"
    }
   ],
   "source": [
    "watchlist_2"
   ]
  },
  {
   "cell_type": "code",
   "execution_count": 68,
   "metadata": {},
   "outputs": [],
   "source": [
    "sfm_rfe_19_3_next=SFM_RFE_featrue_selection(X3_19,y3_19,fit_all=True)\n",
    "best_pen,best_c,best_sol = best_Model(X3_19[sfm_rfe_19_3_next],y3_19,pen,c,solver,hyper_param=True)\n",
    "churn_20_3=LogicResult_churn_next_year(X3_19[sfm_rfe_19_3_next],y3_19,X3_20[['CUSTOMER_SITE_ID']+sfm_rfe_19_3_next]\\\n",
    "                                       ,best_pen,best_c,best_sol)"
   ]
  },
  {
   "cell_type": "code",
   "execution_count": 106,
   "metadata": {},
   "outputs": [],
   "source": [
    "watchlist_3 =churn_20_3[churn_20_3['Recency']<366]"
   ]
  },
  {
   "cell_type": "code",
   "execution_count": 107,
   "metadata": {},
   "outputs": [
    {
     "name": "stdout",
     "output_type": "stream",
     "text": [
      "3810\n",
      "2332\n",
      "452\n"
     ]
    }
   ],
   "source": [
    "print(X3_20.shape[0])   #Total number of customer\n",
    "print(churn_20_3.shape[0]) #Total number on the predicted inactive customer for next year\n",
    "print(watchlist_3.shape[0]) #The customer that are active in the past year, but may churn in the following year"
   ]
  },
  {
   "cell_type": "code",
   "execution_count": 71,
   "metadata": {},
   "outputs": [
    {
     "data": {
      "text/html": [
       "<div>\n",
       "<style scoped>\n",
       "    .dataframe tbody tr th:only-of-type {\n",
       "        vertical-align: middle;\n",
       "    }\n",
       "\n",
       "    .dataframe tbody tr th {\n",
       "        vertical-align: top;\n",
       "    }\n",
       "\n",
       "    .dataframe thead th {\n",
       "        text-align: right;\n",
       "    }\n",
       "</style>\n",
       "<table border=\"1\" class=\"dataframe\">\n",
       "  <thead>\n",
       "    <tr style=\"text-align: right;\">\n",
       "      <th></th>\n",
       "      <th>CUSTOMER_SITE_ID</th>\n",
       "      <th>Frequency</th>\n",
       "      <th>Recency</th>\n",
       "      <th>CUSTOMER_CLASS_OEM</th>\n",
       "      <th>NO_OF_SVC_INCIDENTS</th>\n",
       "      <th>Visit_per_TRX</th>\n",
       "      <th>Avg_AMT</th>\n",
       "      <th>Avg_Duration</th>\n",
       "      <th>churn_pred</th>\n",
       "    </tr>\n",
       "  </thead>\n",
       "  <tbody>\n",
       "    <tr>\n",
       "      <th>87</th>\n",
       "      <td>1433</td>\n",
       "      <td>8</td>\n",
       "      <td>210</td>\n",
       "      <td>0</td>\n",
       "      <td>1</td>\n",
       "      <td>1.125000</td>\n",
       "      <td>167.102500</td>\n",
       "      <td>220.125000</td>\n",
       "      <td>1</td>\n",
       "    </tr>\n",
       "    <tr>\n",
       "      <th>148</th>\n",
       "      <td>2305</td>\n",
       "      <td>3</td>\n",
       "      <td>262</td>\n",
       "      <td>0</td>\n",
       "      <td>67</td>\n",
       "      <td>21.000000</td>\n",
       "      <td>117.413333</td>\n",
       "      <td>403.000000</td>\n",
       "      <td>1</td>\n",
       "    </tr>\n",
       "    <tr>\n",
       "      <th>231</th>\n",
       "      <td>3459</td>\n",
       "      <td>7</td>\n",
       "      <td>303</td>\n",
       "      <td>0</td>\n",
       "      <td>1</td>\n",
       "      <td>0.428571</td>\n",
       "      <td>166.321429</td>\n",
       "      <td>207.142857</td>\n",
       "      <td>1</td>\n",
       "    </tr>\n",
       "    <tr>\n",
       "      <th>317</th>\n",
       "      <td>4534</td>\n",
       "      <td>6</td>\n",
       "      <td>45</td>\n",
       "      <td>0</td>\n",
       "      <td>1</td>\n",
       "      <td>0.833333</td>\n",
       "      <td>457.335000</td>\n",
       "      <td>319.333333</td>\n",
       "      <td>1</td>\n",
       "    </tr>\n",
       "    <tr>\n",
       "      <th>383</th>\n",
       "      <td>5355</td>\n",
       "      <td>5</td>\n",
       "      <td>150</td>\n",
       "      <td>0</td>\n",
       "      <td>24</td>\n",
       "      <td>5.400000</td>\n",
       "      <td>665.498000</td>\n",
       "      <td>158.000000</td>\n",
       "      <td>1</td>\n",
       "    </tr>\n",
       "    <tr>\n",
       "      <th>...</th>\n",
       "      <td>...</td>\n",
       "      <td>...</td>\n",
       "      <td>...</td>\n",
       "      <td>...</td>\n",
       "      <td>...</td>\n",
       "      <td>...</td>\n",
       "      <td>...</td>\n",
       "      <td>...</td>\n",
       "      <td>...</td>\n",
       "    </tr>\n",
       "    <tr>\n",
       "      <th>14386</th>\n",
       "      <td>8397197</td>\n",
       "      <td>2</td>\n",
       "      <td>318</td>\n",
       "      <td>1</td>\n",
       "      <td>0</td>\n",
       "      <td>0.000000</td>\n",
       "      <td>357.890000</td>\n",
       "      <td>17.000000</td>\n",
       "      <td>1</td>\n",
       "    </tr>\n",
       "    <tr>\n",
       "      <th>14403</th>\n",
       "      <td>8398667</td>\n",
       "      <td>3</td>\n",
       "      <td>129</td>\n",
       "      <td>0</td>\n",
       "      <td>0</td>\n",
       "      <td>0.000000</td>\n",
       "      <td>3681.713333</td>\n",
       "      <td>81.666667</td>\n",
       "      <td>1</td>\n",
       "    </tr>\n",
       "    <tr>\n",
       "      <th>14492</th>\n",
       "      <td>8406846</td>\n",
       "      <td>2</td>\n",
       "      <td>93</td>\n",
       "      <td>0</td>\n",
       "      <td>0</td>\n",
       "      <td>0.000000</td>\n",
       "      <td>3167.160000</td>\n",
       "      <td>111.000000</td>\n",
       "      <td>1</td>\n",
       "    </tr>\n",
       "    <tr>\n",
       "      <th>14518</th>\n",
       "      <td>8408894</td>\n",
       "      <td>3</td>\n",
       "      <td>36</td>\n",
       "      <td>0</td>\n",
       "      <td>0</td>\n",
       "      <td>0.000000</td>\n",
       "      <td>3675.286667</td>\n",
       "      <td>16.333333</td>\n",
       "      <td>1</td>\n",
       "    </tr>\n",
       "    <tr>\n",
       "      <th>14671</th>\n",
       "      <td>8417628</td>\n",
       "      <td>2</td>\n",
       "      <td>203</td>\n",
       "      <td>1</td>\n",
       "      <td>0</td>\n",
       "      <td>0.000000</td>\n",
       "      <td>2306.750000</td>\n",
       "      <td>12.000000</td>\n",
       "      <td>1</td>\n",
       "    </tr>\n",
       "  </tbody>\n",
       "</table>\n",
       "<p>479 rows × 9 columns</p>\n",
       "</div>"
      ],
      "text/plain": [
       "       CUSTOMER_SITE_ID  Frequency  Recency  CUSTOMER_CLASS_OEM  \\\n",
       "87                 1433          8      210                   0   \n",
       "148                2305          3      262                   0   \n",
       "231                3459          7      303                   0   \n",
       "317                4534          6       45                   0   \n",
       "383                5355          5      150                   0   \n",
       "...                 ...        ...      ...                 ...   \n",
       "14386           8397197          2      318                   1   \n",
       "14403           8398667          3      129                   0   \n",
       "14492           8406846          2       93                   0   \n",
       "14518           8408894          3       36                   0   \n",
       "14671           8417628          2      203                   1   \n",
       "\n",
       "       NO_OF_SVC_INCIDENTS  Visit_per_TRX      Avg_AMT  Avg_Duration  \\\n",
       "87                       1       1.125000   167.102500    220.125000   \n",
       "148                     67      21.000000   117.413333    403.000000   \n",
       "231                      1       0.428571   166.321429    207.142857   \n",
       "317                      1       0.833333   457.335000    319.333333   \n",
       "383                     24       5.400000   665.498000    158.000000   \n",
       "...                    ...            ...          ...           ...   \n",
       "14386                    0       0.000000   357.890000     17.000000   \n",
       "14403                    0       0.000000  3681.713333     81.666667   \n",
       "14492                    0       0.000000  3167.160000    111.000000   \n",
       "14518                    0       0.000000  3675.286667     16.333333   \n",
       "14671                    0       0.000000  2306.750000     12.000000   \n",
       "\n",
       "       churn_pred  \n",
       "87              1  \n",
       "148             1  \n",
       "231             1  \n",
       "317             1  \n",
       "383             1  \n",
       "...           ...  \n",
       "14386           1  \n",
       "14403           1  \n",
       "14492           1  \n",
       "14518           1  \n",
       "14671           1  \n",
       "\n",
       "[479 rows x 9 columns]"
      ]
     },
     "execution_count": 71,
     "metadata": {},
     "output_type": "execute_result"
    }
   ],
   "source": [
    "watchlist_3"
   ]
  },
  {
   "cell_type": "code",
   "execution_count": 76,
   "metadata": {},
   "outputs": [
    {
     "data": {
      "text/html": [
       "<div>\n",
       "<style scoped>\n",
       "    .dataframe tbody tr th:only-of-type {\n",
       "        vertical-align: middle;\n",
       "    }\n",
       "\n",
       "    .dataframe tbody tr th {\n",
       "        vertical-align: top;\n",
       "    }\n",
       "\n",
       "    .dataframe thead th {\n",
       "        text-align: right;\n",
       "    }\n",
       "</style>\n",
       "<table border=\"1\" class=\"dataframe\">\n",
       "  <thead>\n",
       "    <tr style=\"text-align: right;\">\n",
       "      <th></th>\n",
       "      <th>Tier</th>\n",
       "      <th>Churn</th>\n",
       "      <th>CUSTOMER_SITE_ID</th>\n",
       "      <th>Avg_Duration</th>\n",
       "      <th>Churn_rate</th>\n",
       "    </tr>\n",
       "  </thead>\n",
       "  <tbody>\n",
       "    <tr>\n",
       "      <th>0</th>\n",
       "      <td>Tier 1</td>\n",
       "      <td>257</td>\n",
       "      <td>3350</td>\n",
       "      <td>30.293444</td>\n",
       "      <td>7.67</td>\n",
       "    </tr>\n",
       "    <tr>\n",
       "      <th>1</th>\n",
       "      <td>Tier 2</td>\n",
       "      <td>1067</td>\n",
       "      <td>5019</td>\n",
       "      <td>83.728126</td>\n",
       "      <td>21.26</td>\n",
       "    </tr>\n",
       "    <tr>\n",
       "      <th>2</th>\n",
       "      <td>Tier 3</td>\n",
       "      <td>1965</td>\n",
       "      <td>3298</td>\n",
       "      <td>123.874558</td>\n",
       "      <td>59.58</td>\n",
       "    </tr>\n",
       "    <tr>\n",
       "      <th>3</th>\n",
       "      <td>Tier 4</td>\n",
       "      <td>1862</td>\n",
       "      <td>1864</td>\n",
       "      <td>1.301475</td>\n",
       "      <td>99.89</td>\n",
       "    </tr>\n",
       "  </tbody>\n",
       "</table>\n",
       "</div>"
      ],
      "text/plain": [
       "     Tier  Churn  CUSTOMER_SITE_ID  Avg_Duration  Churn_rate\n",
       "0  Tier 1    257              3350     30.293444        7.67\n",
       "1  Tier 2   1067              5019     83.728126       21.26\n",
       "2  Tier 3   1965              3298    123.874558       59.58\n",
       "3  Tier 4   1862              1864      1.301475       99.89"
      ]
     },
     "execution_count": 76,
     "metadata": {},
     "output_type": "execute_result"
    }
   ],
   "source": [
    "stat=second_df.groupby('Tier').agg({'Churn':'sum','CUSTOMER_SITE_ID':'count','Avg_Duration':'mean'}).reset_index()\n",
    "stat['Churn_rate']=round((stat['Churn']/stat['CUSTOMER_SITE_ID'])*100,2)\n",
    "stat"
   ]
  },
  {
   "cell_type": "code",
   "execution_count": 92,
   "metadata": {},
   "outputs": [
    {
     "name": "stdout",
     "output_type": "stream",
     "text": [
      "60.21611940298507\n",
      "0.565504118552221\n",
      "5.769552238805971\n",
      "0.006865671641791045\n",
      "0.08328358208955224\n"
     ]
    }
   ],
   "source": [
    "for i in coef1_19.head()['Variable'].values:\n",
    "    print(X1_19[i].mean())"
   ]
  },
  {
   "cell_type": "code",
   "execution_count": 95,
   "metadata": {},
   "outputs": [
    {
     "name": "stdout",
     "output_type": "stream",
     "text": [
      "187.16776250249055\n",
      "1.0496365199179238\n",
      "15.85833831440526\n",
      "598.7117088610602\n",
      "1.1138567900501912\n"
     ]
    }
   ],
   "source": [
    "for i in coef2_19.head()['Variable'].values:\n",
    "    print(X2_19[i].mean())"
   ]
  },
  {
   "cell_type": "code",
   "execution_count": 96,
   "metadata": {},
   "outputs": [
    {
     "name": "stdout",
     "output_type": "stream",
     "text": [
      "539.4893875075803\n",
      "3.741055184960582\n",
      "123.87455815948083\n",
      "2.4758800116062045\n",
      "437.48273520091084\n"
     ]
    }
   ],
   "source": [
    "for i in coef3_19.head()['Variable'].values:\n",
    "    print(X3_19[i].mean())"
   ]
  },
  {
   "cell_type": "code",
   "execution_count": 116,
   "metadata": {
    "scrolled": true
   },
   "outputs": [],
   "source": [
    "coef1_19.to_csv('Tier1_Selected_Coef.csv')"
   ]
  },
  {
   "cell_type": "code",
   "execution_count": 117,
   "metadata": {},
   "outputs": [],
   "source": [
    "coef1_19_next.to_csv('Tier1_Selected_Coef_Next.csv')"
   ]
  },
  {
   "cell_type": "code",
   "execution_count": 112,
   "metadata": {},
   "outputs": [],
   "source": [
    "coef1_19_next=LogicResult_churn_next_year(X1_19[sfm_rfe_19_1_next],y1_19,X1_20[['CUSTOMER_SITE_ID']+sfm_rfe_19_1_next]\\\n",
    "                                       ,best_pen,best_c,best_sol,table=True)"
   ]
  },
  {
   "cell_type": "code",
   "execution_count": 114,
   "metadata": {},
   "outputs": [],
   "source": [
    "coef2_19_next=LogicResult_churn_next_year(X2_19[sfm_rfe_19_2_next],y2_19,X2_20[['CUSTOMER_SITE_ID']+sfm_rfe_19_2_next]\\\n",
    "                                       ,best_pen,best_c,best_sol,table=True)"
   ]
  },
  {
   "cell_type": "code",
   "execution_count": 115,
   "metadata": {},
   "outputs": [],
   "source": [
    "coef3_19_next=LogicResult_churn_next_year(X3_19[sfm_rfe_19_3_next],y3_19,X3_20[['CUSTOMER_SITE_ID']+sfm_rfe_19_3_next]\\\n",
    "                                       ,best_pen,best_c,best_sol,table=True)"
   ]
  },
  {
   "cell_type": "code",
   "execution_count": 119,
   "metadata": {},
   "outputs": [],
   "source": [
    "coef2_19.to_csv('Tier2_Selected_Coef.csv')"
   ]
  },
  {
   "cell_type": "code",
   "execution_count": 121,
   "metadata": {},
   "outputs": [
    {
     "data": {
      "text/html": [
       "<div>\n",
       "<style scoped>\n",
       "    .dataframe tbody tr th:only-of-type {\n",
       "        vertical-align: middle;\n",
       "    }\n",
       "\n",
       "    .dataframe tbody tr th {\n",
       "        vertical-align: top;\n",
       "    }\n",
       "\n",
       "    .dataframe thead th {\n",
       "        text-align: right;\n",
       "    }\n",
       "</style>\n",
       "<table border=\"1\" class=\"dataframe\">\n",
       "  <thead>\n",
       "    <tr style=\"text-align: right;\">\n",
       "      <th></th>\n",
       "      <th>Variable</th>\n",
       "      <th>Coefs</th>\n",
       "    </tr>\n",
       "  </thead>\n",
       "  <tbody>\n",
       "    <tr>\n",
       "      <th>0</th>\n",
       "      <td>Recency</td>\n",
       "      <td>1.837899</td>\n",
       "    </tr>\n",
       "    <tr>\n",
       "      <th>1</th>\n",
       "      <td>Visit_per_TRX</td>\n",
       "      <td>-0.622143</td>\n",
       "    </tr>\n",
       "    <tr>\n",
       "      <th>2</th>\n",
       "      <td>Frequency</td>\n",
       "      <td>0.384857</td>\n",
       "    </tr>\n",
       "    <tr>\n",
       "      <th>3</th>\n",
       "      <td>Avg_AMT</td>\n",
       "      <td>0.345554</td>\n",
       "    </tr>\n",
       "    <tr>\n",
       "      <th>4</th>\n",
       "      <td>Lastest_Amt_Ratio</td>\n",
       "      <td>-0.253233</td>\n",
       "    </tr>\n",
       "    <tr>\n",
       "      <th>5</th>\n",
       "      <td>Main_Product_mode_CIJ</td>\n",
       "      <td>-0.053366</td>\n",
       "    </tr>\n",
       "  </tbody>\n",
       "</table>\n",
       "</div>"
      ],
      "text/plain": [
       "                Variable     Coefs\n",
       "0                Recency  1.837899\n",
       "1          Visit_per_TRX -0.622143\n",
       "2              Frequency  0.384857\n",
       "3                Avg_AMT  0.345554\n",
       "4      Lastest_Amt_Ratio -0.253233\n",
       "5  Main_Product_mode_CIJ -0.053366"
      ]
     },
     "execution_count": 121,
     "metadata": {},
     "output_type": "execute_result"
    }
   ],
   "source": [
    "coef2_19"
   ]
  },
  {
   "cell_type": "code",
   "execution_count": 120,
   "metadata": {},
   "outputs": [],
   "source": [
    "coef2_19_next.to_csv('Tier2_Selected_Coef_Next.csv')"
   ]
  },
  {
   "cell_type": "code",
   "execution_count": 123,
   "metadata": {},
   "outputs": [],
   "source": [
    "coef3_19_next.to_csv('Tier3_Selected_Coef_Next.csv')"
   ]
  },
  {
   "cell_type": "code",
   "execution_count": 124,
   "metadata": {
    "scrolled": true
   },
   "outputs": [],
   "source": [
    "coef3_19.to_csv('Tier3_Selected_Coef.csv')"
   ]
  },
  {
   "cell_type": "code",
   "execution_count": 125,
   "metadata": {},
   "outputs": [
    {
     "data": {
      "text/html": [
       "<div>\n",
       "<style scoped>\n",
       "    .dataframe tbody tr th:only-of-type {\n",
       "        vertical-align: middle;\n",
       "    }\n",
       "\n",
       "    .dataframe tbody tr th {\n",
       "        vertical-align: top;\n",
       "    }\n",
       "\n",
       "    .dataframe thead th {\n",
       "        text-align: right;\n",
       "    }\n",
       "</style>\n",
       "<table border=\"1\" class=\"dataframe\">\n",
       "  <thead>\n",
       "    <tr style=\"text-align: right;\">\n",
       "      <th></th>\n",
       "      <th>Variable</th>\n",
       "      <th>Coefs</th>\n",
       "    </tr>\n",
       "  </thead>\n",
       "  <tbody>\n",
       "    <tr>\n",
       "      <th>0</th>\n",
       "      <td>Recency</td>\n",
       "      <td>1.124063</td>\n",
       "    </tr>\n",
       "    <tr>\n",
       "      <th>1</th>\n",
       "      <td>Frequency</td>\n",
       "      <td>0.351666</td>\n",
       "    </tr>\n",
       "    <tr>\n",
       "      <th>2</th>\n",
       "      <td>Avg_Duration</td>\n",
       "      <td>0.288538</td>\n",
       "    </tr>\n",
       "    <tr>\n",
       "      <th>3</th>\n",
       "      <td>Visit_per_TRX</td>\n",
       "      <td>-0.257415</td>\n",
       "    </tr>\n",
       "    <tr>\n",
       "      <th>4</th>\n",
       "      <td>Avg_AMT</td>\n",
       "      <td>0.217427</td>\n",
       "    </tr>\n",
       "    <tr>\n",
       "      <th>5</th>\n",
       "      <td>CUSTOMER_CLASS_OEM</td>\n",
       "      <td>0.196473</td>\n",
       "    </tr>\n",
       "    <tr>\n",
       "      <th>6</th>\n",
       "      <td>NO_OF_SVC_INCIDENTS</td>\n",
       "      <td>0.125043</td>\n",
       "    </tr>\n",
       "    <tr>\n",
       "      <th>7</th>\n",
       "      <td>CUSTOMER_CLASS_DISTRIBUTOR</td>\n",
       "      <td>0.119515</td>\n",
       "    </tr>\n",
       "    <tr>\n",
       "      <th>8</th>\n",
       "      <td>PRODUCT_MODEL_mode_Multiple</td>\n",
       "      <td>-0.095056</td>\n",
       "    </tr>\n",
       "    <tr>\n",
       "      <th>9</th>\n",
       "      <td>SHORT_VERTICAL_UNKNOWN</td>\n",
       "      <td>-0.088505</td>\n",
       "    </tr>\n",
       "    <tr>\n",
       "      <th>10</th>\n",
       "      <td>Lastest_Price_Ratio_Trend</td>\n",
       "      <td>0.080722</td>\n",
       "    </tr>\n",
       "    <tr>\n",
       "      <th>11</th>\n",
       "      <td>SALES_CHANNEL_mode_Esker</td>\n",
       "      <td>0.079363</td>\n",
       "    </tr>\n",
       "    <tr>\n",
       "      <th>12</th>\n",
       "      <td>PRODUCT_MODEL_mode_SOLVENT</td>\n",
       "      <td>0.073269</td>\n",
       "    </tr>\n",
       "    <tr>\n",
       "      <th>13</th>\n",
       "      <td>Aggregate_index</td>\n",
       "      <td>0.068569</td>\n",
       "    </tr>\n",
       "    <tr>\n",
       "      <th>14</th>\n",
       "      <td>Main_Product_mode_LCM</td>\n",
       "      <td>-0.037879</td>\n",
       "    </tr>\n",
       "    <tr>\n",
       "      <th>15</th>\n",
       "      <td>Main_Product_mode_TIJ</td>\n",
       "      <td>-0.035494</td>\n",
       "    </tr>\n",
       "    <tr>\n",
       "      <th>16</th>\n",
       "      <td>Main_Product_mode_TTO</td>\n",
       "      <td>0.028423</td>\n",
       "    </tr>\n",
       "    <tr>\n",
       "      <th>17</th>\n",
       "      <td>Contract</td>\n",
       "      <td>-0.027473</td>\n",
       "    </tr>\n",
       "    <tr>\n",
       "      <th>18</th>\n",
       "      <td>Unique_Item_Purchased</td>\n",
       "      <td>0.020037</td>\n",
       "    </tr>\n",
       "    <tr>\n",
       "      <th>19</th>\n",
       "      <td>Incident_per_printer</td>\n",
       "      <td>0.015076</td>\n",
       "    </tr>\n",
       "    <tr>\n",
       "      <th>20</th>\n",
       "      <td>Main_Product_mode_CIJ</td>\n",
       "      <td>-0.009925</td>\n",
       "    </tr>\n",
       "    <tr>\n",
       "      <th>21</th>\n",
       "      <td>PRODUCT_MODEL_mode_MAKE-UP</td>\n",
       "      <td>-0.009203</td>\n",
       "    </tr>\n",
       "    <tr>\n",
       "      <th>22</th>\n",
       "      <td>Lastest_Amt_Ratio</td>\n",
       "      <td>-0.007155</td>\n",
       "    </tr>\n",
       "  </tbody>\n",
       "</table>\n",
       "</div>"
      ],
      "text/plain": [
       "                       Variable     Coefs\n",
       "0                       Recency  1.124063\n",
       "1                     Frequency  0.351666\n",
       "2                  Avg_Duration  0.288538\n",
       "3                 Visit_per_TRX -0.257415\n",
       "4                       Avg_AMT  0.217427\n",
       "5            CUSTOMER_CLASS_OEM  0.196473\n",
       "6           NO_OF_SVC_INCIDENTS  0.125043\n",
       "7    CUSTOMER_CLASS_DISTRIBUTOR  0.119515\n",
       "8   PRODUCT_MODEL_mode_Multiple -0.095056\n",
       "9        SHORT_VERTICAL_UNKNOWN -0.088505\n",
       "10    Lastest_Price_Ratio_Trend  0.080722\n",
       "11     SALES_CHANNEL_mode_Esker  0.079363\n",
       "12   PRODUCT_MODEL_mode_SOLVENT  0.073269\n",
       "13              Aggregate_index  0.068569\n",
       "14        Main_Product_mode_LCM -0.037879\n",
       "15        Main_Product_mode_TIJ -0.035494\n",
       "16        Main_Product_mode_TTO  0.028423\n",
       "17                     Contract -0.027473\n",
       "18        Unique_Item_Purchased  0.020037\n",
       "19         Incident_per_printer  0.015076\n",
       "20        Main_Product_mode_CIJ -0.009925\n",
       "21   PRODUCT_MODEL_mode_MAKE-UP -0.009203\n",
       "22            Lastest_Amt_Ratio -0.007155"
      ]
     },
     "execution_count": 125,
     "metadata": {},
     "output_type": "execute_result"
    }
   ],
   "source": [
    "coef3_19_all"
   ]
  },
  {
   "cell_type": "code",
   "execution_count": null,
   "metadata": {},
   "outputs": [],
   "source": []
  }
 ],
 "metadata": {
  "kernelspec": {
   "display_name": "Python 3",
   "language": "python",
   "name": "python3"
  },
  "language_info": {
   "codemirror_mode": {
    "name": "ipython",
    "version": 3
   },
   "file_extension": ".py",
   "mimetype": "text/x-python",
   "name": "python",
   "nbconvert_exporter": "python",
   "pygments_lexer": "ipython3",
   "version": "3.7.6"
  },
  "varInspector": {
   "cols": {
    "lenName": 16,
    "lenType": 16,
    "lenVar": 40
   },
   "kernels_config": {
    "python": {
     "delete_cmd_postfix": "",
     "delete_cmd_prefix": "del ",
     "library": "var_list.py",
     "varRefreshCmd": "print(var_dic_list())"
    },
    "r": {
     "delete_cmd_postfix": ") ",
     "delete_cmd_prefix": "rm(",
     "library": "var_list.r",
     "varRefreshCmd": "cat(var_dic_list()) "
    }
   },
   "types_to_exclude": [
    "module",
    "function",
    "builtin_function_or_method",
    "instance",
    "_Feature"
   ],
   "window_display": false
  }
 },
 "nbformat": 4,
 "nbformat_minor": 4
}
