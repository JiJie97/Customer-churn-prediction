{
 "cells": [
  {
   "cell_type": "code",
   "execution_count": 1,
   "metadata": {},
   "outputs": [],
   "source": [
    "import numpy as np\n",
    "import pandas as pd\n",
    "import matplotlib.pyplot as plt\n",
    "import seaborn as sns\n",
    "from datetime import datetime,timedelta\n",
    "import warnings\n",
    "warnings.filterwarnings(\"ignore\")\n",
    "from sklearn.linear_model import LogisticRegression\n",
    "from sklearn.preprocessing import StandardScaler\n",
    "from sklearn.cluster import KMeans\n",
    "import statsmodels.api as sm\n",
    "from sklearn.model_selection import train_test_split\n",
    "from sklearn.metrics import accuracy_score, f1_score,recall_score,precision_score, confusion_matrix\n",
    "from sklearn.metrics import silhouette_score\n",
    "from sklearn.model_selection import cross_validate\n",
    "from sklearn.pipeline import make_pipeline\n",
    "from sklearn import preprocessing\n",
    "from dateutil.relativedelta import relativedelta\n",
    "from sklearn.feature_selection import RFE\n",
    "from sklearn.feature_selection import SelectFromModel"
   ]
  },
  {
   "cell_type": "markdown",
   "metadata": {},
   "source": [
    "# Data Manipulation & Engineering new features"
   ]
  },
  {
   "cell_type": "code",
   "execution_count": 2,
   "metadata": {},
   "outputs": [],
   "source": [
    "df=pd.read_csv('customer_revenue_tier_price.csv').drop('Unnamed: 0',axis=1)\n",
    "#cx_case=pd.read_csv('cx_cases.csv')\n",
    "cx_interact=pd.read_csv('cx_interactions_0625.csv')\n",
    "site_install=pd.read_csv('site_install_0722.csv')\n",
    "svc_incident = pd.read_csv('svc_incidents_0625.csv')"
   ]
  },
  {
   "cell_type": "code",
   "execution_count": 3,
   "metadata": {},
   "outputs": [],
   "source": [
    "df=df.rename(columns={'Active':'Active_20190601'})"
   ]
  },
  {
   "cell_type": "code",
   "execution_count": 4,
   "metadata": {},
   "outputs": [],
   "source": [
    "def multiple_item(x):\n",
    "    if len(x[0])>1:\n",
    "        return \"Multiple\"\n",
    "    else:\n",
    "        return x"
   ]
  },
  {
   "cell_type": "code",
   "execution_count": 5,
   "metadata": {},
   "outputs": [],
   "source": [
    "def LatestAmtRatio(customer_id,duration,trx_max,frequency,monetary,data_end):\n",
    "    if frequency <= 2:\n",
    "        return 1\n",
    "    else:\n",
    "        if duration <= 366:\n",
    "            return 1\n",
    "        else:\n",
    "            k = round(duration/3)\n",
    "            delta=pd.to_timedelta('{} days'.format(k))\n",
    "            cal_start_date = trx_max-delta\n",
    "            ## using the df\n",
    "            latest_amt = df[(df['CUSTOMER_SITE_ID']==customer_id)&\\\n",
    "                            (df['TRX_DATE']<=data_end)&\\\n",
    "                            (df['TRX_DATE']>=cal_start_date)]['TRX_AMT_USD'].sum()\n",
    "            latest_ratio = (latest_amt*3)/monetary\n",
    "            return latest_ratio"
   ]
  },
  {
   "cell_type": "code",
   "execution_count": 6,
   "metadata": {},
   "outputs": [],
   "source": [
    "def LatestPriceRatioTrend(customer_id,duration,trx_max,frequency,agg_price_index,data_end):\n",
    "    if frequency <= 2:\n",
    "        return 1\n",
    "    else:\n",
    "        if duration <= 366:\n",
    "            return 1\n",
    "        else:\n",
    "            k = round(duration/3)\n",
    "            delta=pd.to_timedelta('{} days'.format(k))\n",
    "            cal_start_date = trx_max-delta\n",
    "            ## using the df\n",
    "            latest_ws = df[(df['CUSTOMER_SITE_ID']==customer_id)&\\\n",
    "                           (df['TRX_DATE']<=data_end)&\\\n",
    "                           (df['TRX_DATE']>=cal_start_date)]['Price_WS_proportion'].sum()\n",
    "            latest_stu = df[(df['CUSTOMER_SITE_ID']==customer_id)&\\\n",
    "                            (df['TRX_DATE']<=data_end)&\\\n",
    "                            (df['TRX_DATE']>=cal_start_date)]['Price_STU_proportion'].sum()\n",
    "            latest_price_ratio= latest_ws/latest_stu\n",
    "            latest_price_ratio_trend = latest_price_ratio/agg_price_index\n",
    "            return latest_price_ratio_trend"
   ]
  },
  {
   "cell_type": "code",
   "execution_count": 7,
   "metadata": {},
   "outputs": [],
   "source": [
    "def DfTimeFeature(df,data_start,data_end,svc_incident,site_install,cx_interact):\n",
    "    df['TRX_DATE']=pd.to_datetime(df['TRX_DATE'])\n",
    "    data_start =pd.to_datetime(data_start)\n",
    "    data_end =pd.to_datetime(data_end)\n",
    "    \n",
    "    df['Main_Product']=np.where(df['PRODUCT_FAMILY'].isin(['CIJ','LCM','TTO','TIJ']),df['PRODUCT_FAMILY'],'Other')\n",
    "    df['Qty_proportion']=df['QUANTITY']/df['Qty']\n",
    "    df['Price_WS_proportion']=df['Site_Level_Price_Index_WS']*df['Qty_proportion']\n",
    "    df['Price_STU_proportion']=df['Site_Level_Price_Index_STU']*df['Qty_proportion']\n",
    "    \n",
    "    df_time = df[(df['TRX_DATE']>=data_start)&(df['TRX_DATE']<=data_end)]\n",
    "    \n",
    "\n",
    "    #aggrefate on customer_site_id level\n",
    "    dfg=df_time.groupby(['CUSTOMER_SITE_ID','Tier',\\\n",
    "                      'SHORT_VERTICAL','CUSTOMER_CLASS'])\\\n",
    "    .agg({\"SALES_CHANNEL\":pd.Series.mode,'PRODUCT_MODEL':pd.Series.mode,'Main_Product':pd.Series.mode,\\\n",
    "     'TRX_DATE':['min','max'],'TRX_AMT_USD':'sum','CUSTOMER_TRX_ID':pd.Series.nunique,\\\n",
    "        \"ITEM_ID\":pd.Series.nunique,'Price_WS_proportion':'sum','Price_STU_proportion':'sum'}).reset_index()\n",
    "\n",
    "    dfg.columns = ['%s%s' % (a, '_%s' % b if b else '') for a, b in dfg.columns]\n",
    "    \n",
    "    #get feature from the join df\n",
    "    dfg=dfg.rename(columns={'TRX_AMT_USD_sum':'Monetary','CUSTOMER_TRX_ID_nunique':'Frequency',\\\n",
    "                     'ITEM_ID_nunique':'Unique_Item_Purchased'})\n",
    "    dfg['Aggregate_index']=dfg['Price_WS_proportion_sum']/dfg['Price_STU_proportion_sum']\n",
    "    dfg['Duration']=((dfg['TRX_DATE_max']-dfg['TRX_DATE_min'])/np.timedelta64(1,'D')).astype('int')+1\n",
    "    dfg['Recency']=(((data_end-dfg['TRX_DATE_max'])/np.timedelta64(1,'D')).astype('int')+1)\n",
    "    dfg['SALES_CHANNEL_mode']=dfg['SALES_CHANNEL_mode'].apply(multiple_item)\n",
    "    dfg['PRODUCT_MODEL_mode']=dfg['PRODUCT_MODEL_mode'].apply(multiple_item)\n",
    "    dfg['Main_Product_mode']=dfg['Main_Product_mode'].apply(multiple_item)\n",
    "    dfg['Avg_AMT']=dfg['Monetary']/dfg['Frequency']\n",
    "    dfg['Avg_Duration']=dfg['Duration']/dfg['Frequency']\n",
    "    dfg_with_dummy = pd.get_dummies(dfg, columns=['SHORT_VERTICAL', 'CUSTOMER_CLASS',\n",
    "                                               'SALES_CHANNEL_mode', 'PRODUCT_MODEL_mode','Main_Product_mode'])\n",
    "    dfg_with_dummy['Lastest_Amt_Ratio']=dfg_with_dummy.apply(lambda x: LatestAmtRatio(x.CUSTOMER_SITE_ID, \\\n",
    "                                     x.Duration,x.TRX_DATE_max,x.Frequency,x.Monetary,data_end), axis=1)\n",
    "    dfg_with_dummy['Lastest_Price_Ratio_Trend']=dfg_with_dummy.apply(lambda x: LatestPriceRatioTrend(x.CUSTOMER_SITE_ID, \\\n",
    "                                     x.Duration,x.TRX_DATE_max,x.Frequency,x.Aggregate_index,data_end), axis=1)\n",
    "    \n",
    "    #get feature from svc_incident\n",
    "    svc_incident['LAST_SERVICE_EVENT_DATE']=pd.to_datetime(svc_incident['LAST_SERVICE_EVENT_DATE'])\n",
    "    svc_time = svc_incident[(svc_incident['LAST_SERVICE_EVENT_DATE']>=data_start)&\\\n",
    "                               (svc_incident['LAST_SERVICE_EVENT_DATE']<=data_end)]\n",
    "    incident_feature=svc_time.groupby('CUSTOMER_SITE_ID').agg({'NO_OF_SVC_INCIDENTS':'sum'}).reset_index()\n",
    "    \n",
    "    site_install['INSTANCE_LAST_UPDATE_DATE']=pd.to_datetime(site_install['INSTANCE_LAST_UPDATE_DATE'])\n",
    "    site_time = site_install[(site_install['INSTANCE_LAST_UPDATE_DATE']<=data_end)]\n",
    "    site_time['Contract']=np.where(site_time['CONTRACT_FLAG']=='Y',1,0)\n",
    "    site_feature=site_time.groupby('CUSTOMER_SITE_ID').agg({\"INSTANCE_ID\":pd.Series.nunique,\\\n",
    "                                                           \"Contract\":'sum'}).reset_index()\n",
    "    \n",
    "    id_with_incident=dfg_with_dummy.merge(incident_feature,on='CUSTOMER_SITE_ID')['CUSTOMER_SITE_ID'].values\n",
    "    df_no_incident=dfg_with_dummy[~(dfg_with_dummy['CUSTOMER_SITE_ID'].isin(id_with_incident))]\n",
    "    df_no_incident['NO_OF_SVC_INCIDENTS']=0\n",
    "    #some customer don't have incident but stil have contracted printer\n",
    "    df_no_incident2=df_no_incident.merge(site_feature[['CUSTOMER_SITE_ID','Contract']],on='CUSTOMER_SITE_ID',how='left')\n",
    "    df_no_incident2['Contract']=df_no_incident2['Contract'].fillna(0)\n",
    "    df_no_incident2['Incident_per_printer']=0\n",
    "    \n",
    "    df_incident=dfg_with_dummy.merge(incident_feature,on='CUSTOMER_SITE_ID').merge(site_feature,on='CUSTOMER_SITE_ID')\n",
    "    df_incident['Incident_per_printer']=df_incident['NO_OF_SVC_INCIDENTS']/df_incident['INSTANCE_ID']\n",
    "    df_incident=df_incident.drop('INSTANCE_ID',axis=1)\n",
    "    \n",
    "    df_feature=pd.concat([df_incident,df_no_incident2])\n",
    "    \n",
    "    #get feature from cx interact\n",
    "    cx_interact['Created_Date']=pd.to_datetime(cx_interact['Created_Date'])\n",
    "    cx_time= cx_interact[(cx_interact['Created_Date']>=data_start)&\\\n",
    "                        (cx_interact['Created_Date']<=data_end)]\n",
    "    interact_feature=cx_time.groupby('CUSTOMER_SITE_ID').agg({'Visit':'sum'}).reset_index()\n",
    "    df_feature2=df_feature.merge(interact_feature,on='CUSTOMER_SITE_ID',how='left')\n",
    "    df_feature2['Visit']=df_feature2['Visit'].fillna(0)\n",
    "    df_feature2['Visit_per_TRX']=df_feature2['Visit']/df_feature2['Frequency']\n",
    "    \n",
    "    return df_feature2"
   ]
  },
  {
   "cell_type": "code",
   "execution_count": 8,
   "metadata": {},
   "outputs": [],
   "source": [
    "data_start_18='2015-01-01'\n",
    "data_end_18='2018-06-01'\n",
    "first_df=DfTimeFeature(df,data_start_18,data_end_18,svc_incident,site_install,cx_interact)\n",
    "\n",
    "start_time = pd.to_datetime('2018-06-01')\n",
    "end_time = pd.to_datetime('2019-06-01')\n",
    "active_customer=df[(df['TRX_DATE']>start_time)&(df['TRX_DATE']<=end_time)]['CUSTOMER_SITE_ID'].values\n",
    "first_df[\"Churn\"]=np.where(first_df['CUSTOMER_SITE_ID'].isin(active_customer),0,1)"
   ]
  },
  {
   "cell_type": "code",
   "execution_count": 9,
   "metadata": {},
   "outputs": [],
   "source": [
    "data_start_19='2015-01-01'\n",
    "data_end_19='2019-06-01'\n",
    "second_df=DfTimeFeature(df,data_start_19,data_end_19,svc_incident,site_install,cx_interact)\n",
    "\n",
    "start_time = pd.to_datetime('2019-06-01')\n",
    "end_time = pd.to_datetime('2020-06-03')\n",
    "active_customer=df[(df['TRX_DATE']>start_time)&(df['TRX_DATE']<=end_time)]['CUSTOMER_SITE_ID'].values\n",
    "second_df[\"Churn\"]=np.where(second_df['CUSTOMER_SITE_ID'].isin(active_customer),0,1)"
   ]
  },
  {
   "cell_type": "code",
   "execution_count": 10,
   "metadata": {},
   "outputs": [],
   "source": [
    "data_start='2015-01-01'\n",
    "data_end='2020-06-03'\n",
    "\n",
    "third_df=DfTimeFeature(df,data_start,data_end,svc_incident,site_install,cx_interact)"
   ]
  },
  {
   "cell_type": "code",
   "execution_count": 11,
   "metadata": {},
   "outputs": [],
   "source": [
    "all_features=['Frequency','Recency','Unique_Item_Purchased', 'Aggregate_index',\n",
    "            'PRODUCT_MODEL_mode_Multiple', 'PRODUCT_MODEL_mode_MAKE-UP','PRODUCT_MODEL_mode_SOLVENT',\n",
    "            'SALES_CHANNEL_mode_Esker','SHORT_VERTICAL_UNKNOWN',\n",
    "            'Main_Product_mode_CIJ', 'Main_Product_mode_LCM','Main_Product_mode_TIJ', 'Main_Product_mode_TTO',\n",
    "            'CUSTOMER_CLASS_DISTRIBUTOR', 'CUSTOMER_CLASS_OEM', \n",
    "            'NO_OF_SVC_INCIDENTS', 'Contract','Lastest_Amt_Ratio','Lastest_Price_Ratio_Trend',\n",
    "            'Incident_per_printer', 'Visit_per_TRX','Avg_AMT','Avg_Duration']"
   ]
  },
  {
   "cell_type": "code",
   "execution_count": 12,
   "metadata": {},
   "outputs": [],
   "source": [
    "tier1_18 = first_df[first_df['Tier']=='Tier 1']\n",
    "tier2_18 = first_df[first_df['Tier']=='Tier 2']\n",
    "tier3_18 = first_df[first_df['Tier']=='Tier 3']\n",
    "#tier4_18 = first_df[first_df['Tier']=='Tier 4']\n",
    "\n",
    "X1= tier1_18.drop(['Tier',\"Churn\"],axis=1)[all_features]\n",
    "X2= tier2_18.drop(['Tier',\"Churn\"],axis=1)[all_features]\n",
    "X3= tier3_18.drop(['Tier',\"Churn\"],axis=1)[all_features]\n",
    "#X4= tier4_18.drop(['Tier',\"Churn\"],axis=1)\n",
    "\n",
    "y1=tier1_18[\"Churn\"]\n",
    "y2=tier2_18[\"Churn\"]\n",
    "y3=tier3_18[\"Churn\"]\n",
    "#y4=tier4_18[\"Churn\"]"
   ]
  },
  {
   "cell_type": "code",
   "execution_count": 13,
   "metadata": {},
   "outputs": [],
   "source": [
    "tier1_19 = second_df[second_df['Tier']=='Tier 1']\n",
    "tier2_19 = second_df[second_df['Tier']=='Tier 2']\n",
    "tier3_19 = second_df[second_df['Tier']=='Tier 3']\n",
    "#tier4_19 = second_df[second_df['Tier']=='Tier 4']\n",
    "\n",
    "X1_19= tier1_19.drop(['Tier',\"Churn\"],axis=1)[all_features]\n",
    "X2_19= tier2_19.drop(['Tier',\"Churn\"],axis=1)[all_features]\n",
    "X3_19= tier3_19.drop(['Tier',\"Churn\"],axis=1)[all_features]\n",
    "#X4_19= tier4_19.drop(['Tier',\"Churn\"],axis=1)\n",
    "\n",
    "y1_19=tier1_19[\"Churn\"]\n",
    "y2_19=tier2_19[\"Churn\"]\n",
    "y3_19=tier3_19[\"Churn\"]\n",
    "#y4_19=tier4_19[\"Churn\"]"
   ]
  },
  {
   "cell_type": "code",
   "execution_count": 14,
   "metadata": {},
   "outputs": [],
   "source": [
    "tier1_20 = third_df[third_df['Tier']=='Tier 1']\n",
    "tier2_20 = third_df[third_df['Tier']=='Tier 2']\n",
    "tier3_20 = third_df[third_df['Tier']=='Tier 3']\n",
    "#tier4_20 = third_phase[third_phase['Tier']=='Tier 4']\n",
    "\n",
    "X1_20= tier1_20.drop(['Tier'],axis=1)[['CUSTOMER_SITE_ID']+all_features]\n",
    "X2_20= tier2_20.drop(['Tier'],axis=1)[['CUSTOMER_SITE_ID']+all_features]\n",
    "X3_20= tier3_20.drop(['Tier'],axis=1)[['CUSTOMER_SITE_ID']+all_features]\n",
    "#X4_20= tier4_20.drop(['Tier'],axis=1)"
   ]
  }
 ],
 "metadata": {
  "kernelspec": {
   "display_name": "Python 3",
   "language": "python",
   "name": "python3"
  },
  "language_info": {
   "codemirror_mode": {
    "name": "ipython",
    "version": 3
   },
   "file_extension": ".py",
   "mimetype": "text/x-python",
   "name": "python",
   "nbconvert_exporter": "python",
   "pygments_lexer": "ipython3",
   "version": "3.7.6"
  },
  "varInspector": {
   "cols": {
    "lenName": 16,
    "lenType": 16,
    "lenVar": 40
   },
   "kernels_config": {
    "python": {
     "delete_cmd_postfix": "",
     "delete_cmd_prefix": "del ",
     "library": "var_list.py",
     "varRefreshCmd": "print(var_dic_list())"
    },
    "r": {
     "delete_cmd_postfix": ") ",
     "delete_cmd_prefix": "rm(",
     "library": "var_list.r",
     "varRefreshCmd": "cat(var_dic_list()) "
    }
   },
   "types_to_exclude": [
    "module",
    "function",
    "builtin_function_or_method",
    "instance",
    "_Feature"
   ],
   "window_display": false
  }
 },
 "nbformat": 4,
 "nbformat_minor": 4
}
