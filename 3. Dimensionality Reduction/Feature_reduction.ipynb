{
 "cells": [
  {
   "cell_type": "markdown",
   "metadata": {},
   "source": [
    "## Model Testing"
   ]
  },
  {
   "cell_type": "code",
   "execution_count": 15,
   "metadata": {},
   "outputs": [],
   "source": [
    "def LogicResult_allcoef(X,y,Penalty='l2',c=1,Solver='lbfgs'):\n",
    "    \n",
    "    X_train,X_test,y_train,y_test= train_test_split(X,y,test_size=0.2, \\\n",
    "                                                        stratify=y, random_state=0)\n",
    "    \n",
    "    scaler_train=StandardScaler()\n",
    "    scaler_train.fit(X_train)\n",
    "    X_train_scaled = pd.DataFrame(scaler_train.transform(X_train),columns = X_train.columns)\n",
    "    \n",
    "    scaler_test=StandardScaler()\n",
    "    scaler_test.fit(X_test)\n",
    "    X_test_scaled = pd.DataFrame(scaler_test.transform(X_test),columns = X_test.columns)\n",
    "    \n",
    "    #Lasso\n",
    "    classifier = LogisticRegression(random_state=0, penalty=Penalty,solver=Solver,C=c)\n",
    "    classifier.fit(X_train_scaled, y_train)\n",
    "    \n",
    "    coef_table = pd.DataFrame(list(X_train.columns)).copy()\n",
    "    coef_table.insert(len(coef_table.columns),\"Coefs\",classifier.coef_.transpose())\n",
    "    coef_table.columns=['Variable','Coefs']\n",
    "    coef_table['Coefs_ABS']=coef_table['Coefs'].abs()\n",
    "    coef=coef_table.sort_values('Coefs_ABS',ascending=False).reset_index(drop=True)\n",
    "    coef=coef.drop('Coefs_ABS',axis=1)\n",
    "\n",
    "    \n",
    "    y_pred = classifier.predict(X_test_scaled)\n",
    "    acc = accuracy_score(y_test,y_pred)\n",
    "    prec = precision_score(y_test, y_pred)\n",
    "    rec = recall_score(y_test, y_pred)\n",
    "    f1 = f1_score(y_test,y_pred)\n",
    "    results = pd.DataFrame([['Logistic Regression', acc,prec,rec,f1]],\\\n",
    "                       columns=['Model', 'Accuracy', 'Precision', 'Recall','F1 Score'])\n",
    "    return coef,results"
   ]
  },
  {
   "cell_type": "code",
   "execution_count": 16,
   "metadata": {},
   "outputs": [],
   "source": [
    "def LogicResult_allcoef_10fold(X,y,Penalty,c,Solver):\n",
    "\n",
    "    scoring = ['accuracy','precision', 'recall','f1']\n",
    "\n",
    "    classifier = LogisticRegression(random_state=0, penalty=Penalty,solver=Solver,C=c)\n",
    "    clf = make_pipeline(preprocessing.StandardScaler(), classifier)\n",
    "    scores = cross_validate(clf, X, y, scoring=scoring,cv=10)\n",
    "\n",
    "    return scores"
   ]
  },
  {
   "cell_type": "code",
   "execution_count": 17,
   "metadata": {},
   "outputs": [],
   "source": [
    "pen=['l1','l2']\n",
    "c = [0.01,0.1, 1, 10, 100, 1000]\n",
    "solver = ['liblinear', 'saga']\n",
    "def best_Model(X,y,penalty,C,Solver,hyper_param=False):\n",
    "    rank = pd.DataFrame(columns = ['accuracy','precision','recall','f1'])\n",
    "    for i in penalty:\n",
    "        for j in C:\n",
    "            for k in Solver:\n",
    "                tmp_score = LogicResult_allcoef_10fold(X,y,i,j,k)\n",
    "                tmp_name = 'Logistic {i1} C={j1} {k1}'.format(i1=i,j1=j,k1=k)\n",
    "                rank.loc[tmp_name,'accuracy'] = tmp_score['test_accuracy'].mean()\n",
    "                rank.loc[tmp_name,'precision'] = tmp_score['test_precision'].mean()\n",
    "                rank.loc[tmp_name,'recall'] = tmp_score['test_recall'].mean()\n",
    "                rank.loc[tmp_name,'f1'] = tmp_score['test_f1'].mean()\n",
    "                rank.loc[tmp_name,'penalty']=i\n",
    "                rank.loc[tmp_name,'c']=j\n",
    "                rank.loc[tmp_name,'solver']=k\n",
    "    #if all score are the same, prefer lasso to ridge            \n",
    "    rank = rank.sort_values(['recall','accuracy','f1','penalty'],ascending = False)\n",
    "    if hyper_param == False:\n",
    "        return rank\n",
    "    else:\n",
    "        best_pen =rank.head(1)['penalty'].values[0]\n",
    "        best_c =rank.head(1)['c'].values[0]\n",
    "        best_sol =rank.head(1)['solver'].values[0]\n",
    "        return best_pen, best_c, best_sol"
   ]
  },
  {
   "cell_type": "code",
   "execution_count": 18,
   "metadata": {},
   "outputs": [],
   "source": [
    "def LogicResult_allcoef_next_year(X_cur,y_cur,X_next,y_next,Penalty,c,Solver):\n",
    "\n",
    "    scaler_current=StandardScaler()\n",
    "    scaler_current.fit(X_cur)\n",
    "    X_cur_scaled = pd.DataFrame(scaler_current.transform(X_cur),columns = X_cur.columns)\n",
    "    \n",
    "    scaler_next=StandardScaler()\n",
    "    scaler_next.fit(X_next)\n",
    "    X_next_scaled = pd.DataFrame(scaler_next.transform(X_next),columns = X_next.columns)\n",
    "    \n",
    "    #Lasso\n",
    "    classifier = LogisticRegression(random_state=0, penalty=Penalty,solver=Solver,C=c)\n",
    "    classifier.fit(X_cur_scaled, y_cur)\n",
    "    \n",
    "    coef_table = pd.DataFrame(list(X_cur.columns)).copy()\n",
    "    coef_table.insert(len(coef_table.columns),\"Coefs\",classifier.coef_.transpose())\n",
    "    coef_table.columns=['Variable','Coefs']\n",
    "    coef_table['Coefs_ABS']=coef_table['Coefs'].abs()\n",
    "    coef=coef_table.sort_values('Coefs_ABS',ascending=False).reset_index(drop=True)\n",
    "    coef=coef.drop('Coefs_ABS',axis=1)\n",
    "\n",
    "    \n",
    "    y_pred = classifier.predict(X_next_scaled)\n",
    "    acc = accuracy_score(y_next,y_pred)\n",
    "    prec = precision_score(y_next, y_pred)\n",
    "    rec = recall_score(y_next, y_pred)\n",
    "    f1 = f1_score(y_next,y_pred)\n",
    "    results = pd.DataFrame([['Logistic Regression', acc,prec,rec,f1]],\\\n",
    "                       columns=['Model', 'Accuracy', 'Precision', 'Recall','F1 Score'])\n",
    "    return coef,results"
   ]
  },
  {
   "cell_type": "code",
   "execution_count": 19,
   "metadata": {},
   "outputs": [],
   "source": [
    "def SFM_RFE_featrue_selection(X,y,fit_all=False):\n",
    "    if fit_all == False:\n",
    "        X_train,X_test,y_train,y_test= train_test_split(X,y,test_size=0.2, \\\n",
    "                                                        stratify=y, random_state=0)\n",
    "    \n",
    "        scaler_train=StandardScaler()\n",
    "        scaler_train.fit(X_train)\n",
    "        X_train_scaled = pd.DataFrame(scaler_train.transform(X_train),columns = X_train.columns)\n",
    "\n",
    "    \n",
    "        #SFM\n",
    "        selector_sfm = SelectFromModel(estimator=LogisticRegression()).fit(X_train_scaled, y_train)\n",
    "        sfm_feature=X_train.columns[selector_sfm.get_support()]\n",
    "    \n",
    "        #RFE\n",
    "        selector_rfe = RFE(estimator=LogisticRegression(), n_features_to_select=len(sfm_feature), step=1)\\\n",
    "        .fit(X_train_scaled, y_train)\n",
    "        rfe_feature=X_train.columns[selector_rfe.get_support()]\n",
    "    \n",
    "        selected_feature = [x for x in sfm_feature if x in rfe_feature]\n",
    "        if len(selected_feature)< 5:\n",
    "            selected_feature_long=rfe_feature.union(sfm_feature)\n",
    "            return selected_feature_long\n",
    "        else:\n",
    "            return selected_feature\n",
    "    else:\n",
    "        scaler_train=StandardScaler()\n",
    "        scaler_train.fit(X)\n",
    "        X_scaled = pd.DataFrame(scaler_train.transform(X),columns = X.columns)\n",
    "        \n",
    "        #SFM\n",
    "        selector_sfm = SelectFromModel(estimator=LogisticRegression()).fit(X_scaled, y)\n",
    "        sfm_feature=X.columns[selector_sfm.get_support()]\n",
    "    \n",
    "        #RFE\n",
    "        selector_rfe = RFE(estimator=LogisticRegression(), n_features_to_select=len(sfm_feature), step=1)\\\n",
    "        .fit(X_scaled, y)\n",
    "        rfe_feature=X.columns[selector_rfe.get_support()]\n",
    "    \n",
    "        selected_feature = [x for x in sfm_feature if x in rfe_feature]\n",
    "        if len(selected_feature)< 5:\n",
    "            selected_feature_long=rfe_feature.union(sfm_feature)\n",
    "            return selected_feature_long\n",
    "        else:\n",
    "            return selected_feature"
   ]
  },
  {
   "cell_type": "markdown",
   "metadata": {},
   "source": [
    "# Feature Reduction Result"
   ]
  },
  {
   "cell_type": "markdown",
   "metadata": {},
   "source": [
    "## 3 types of Model\n",
    "Type 1: <br>\n",
    "Model based on 2015-2019 data/ 80% training and 20 testing <br>\n",
    "Target period :2018/6 - 2019/6 <br>\n",
    "Feature period: 2015/1- 2018/6 <br>\n",
    "<br>\n",
    "Type 2:<br>\n",
    "Model based on 2015-2019, but test on 2015-2020 <br>\n",
    "<br>\n",
    "Type 3 <br>\n",
    "Model based on 2015-2020 data/ 80% training and 20 testing <br>\n",
    "Target period :2019/6 - 2020/6 <br>\n",
    "Feature period: 2015/1- 2019/6 <br>"
   ]
  },
  {
   "cell_type": "markdown",
   "metadata": {},
   "source": [
    "## Tier 1"
   ]
  },
  {
   "cell_type": "markdown",
   "metadata": {},
   "source": [
    "### Type 1 Model"
   ]
  },
  {
   "cell_type": "code",
   "execution_count": 20,
   "metadata": {},
   "outputs": [
    {
     "data": {
      "text/html": [
       "<div>\n",
       "<style scoped>\n",
       "    .dataframe tbody tr th:only-of-type {\n",
       "        vertical-align: middle;\n",
       "    }\n",
       "\n",
       "    .dataframe tbody tr th {\n",
       "        vertical-align: top;\n",
       "    }\n",
       "\n",
       "    .dataframe thead th {\n",
       "        text-align: right;\n",
       "    }\n",
       "</style>\n",
       "<table border=\"1\" class=\"dataframe\">\n",
       "  <thead>\n",
       "    <tr style=\"text-align: right;\">\n",
       "      <th></th>\n",
       "      <th>Model</th>\n",
       "      <th>Accuracy</th>\n",
       "      <th>Precision</th>\n",
       "      <th>Recall</th>\n",
       "      <th>F1 Score</th>\n",
       "    </tr>\n",
       "  </thead>\n",
       "  <tbody>\n",
       "    <tr>\n",
       "      <th>0</th>\n",
       "      <td>Logistic Regression</td>\n",
       "      <td>0.965152</td>\n",
       "      <td>0.714286</td>\n",
       "      <td>0.192308</td>\n",
       "      <td>0.30303</td>\n",
       "    </tr>\n",
       "  </tbody>\n",
       "</table>\n",
       "</div>"
      ],
      "text/plain": [
       "                 Model  Accuracy  Precision    Recall  F1 Score\n",
       "0  Logistic Regression  0.965152   0.714286  0.192308   0.30303"
      ]
     },
     "execution_count": 20,
     "metadata": {},
     "output_type": "execute_result"
    }
   ],
   "source": [
    "rank1_18_all= best_Model(X1,y1,pen,c,solver)\n",
    "best_pen,best_c,best_sol = best_Model(X1,y1,pen,c,solver,hyper_param=True)\n",
    "coef1_18_all,evaluation1_18_all=LogicResult_allcoef(X1,y1,best_pen,best_c,best_sol)\n",
    "evaluation1_18_all"
   ]
  },
  {
   "cell_type": "code",
   "execution_count": 21,
   "metadata": {
    "scrolled": true
   },
   "outputs": [
    {
     "data": {
      "text/html": [
       "<div>\n",
       "<style scoped>\n",
       "    .dataframe tbody tr th:only-of-type {\n",
       "        vertical-align: middle;\n",
       "    }\n",
       "\n",
       "    .dataframe tbody tr th {\n",
       "        vertical-align: top;\n",
       "    }\n",
       "\n",
       "    .dataframe thead th {\n",
       "        text-align: right;\n",
       "    }\n",
       "</style>\n",
       "<table border=\"1\" class=\"dataframe\">\n",
       "  <thead>\n",
       "    <tr style=\"text-align: right;\">\n",
       "      <th></th>\n",
       "      <th>accuracy</th>\n",
       "      <th>precision</th>\n",
       "      <th>recall</th>\n",
       "      <th>f1</th>\n",
       "      <th>penalty</th>\n",
       "      <th>c</th>\n",
       "      <th>solver</th>\n",
       "    </tr>\n",
       "  </thead>\n",
       "  <tbody>\n",
       "    <tr>\n",
       "      <th>Logistic l2 C=1 liblinear</th>\n",
       "      <td>0.965152</td>\n",
       "      <td>0.660931</td>\n",
       "      <td>0.3</td>\n",
       "      <td>0.394294</td>\n",
       "      <td>l2</td>\n",
       "      <td>1.0</td>\n",
       "      <td>liblinear</td>\n",
       "    </tr>\n",
       "  </tbody>\n",
       "</table>\n",
       "</div>"
      ],
      "text/plain": [
       "                           accuracy precision recall        f1 penalty    c  \\\n",
       "Logistic l2 C=1 liblinear  0.965152  0.660931    0.3  0.394294      l2  1.0   \n",
       "\n",
       "                              solver  \n",
       "Logistic l2 C=1 liblinear  liblinear  "
      ]
     },
     "execution_count": 21,
     "metadata": {},
     "output_type": "execute_result"
    }
   ],
   "source": [
    "rank1_18_all.head(1)"
   ]
  },
  {
   "cell_type": "code",
   "execution_count": 22,
   "metadata": {},
   "outputs": [
    {
     "data": {
      "text/html": [
       "<div>\n",
       "<style scoped>\n",
       "    .dataframe tbody tr th:only-of-type {\n",
       "        vertical-align: middle;\n",
       "    }\n",
       "\n",
       "    .dataframe tbody tr th {\n",
       "        vertical-align: top;\n",
       "    }\n",
       "\n",
       "    .dataframe thead th {\n",
       "        text-align: right;\n",
       "    }\n",
       "</style>\n",
       "<table border=\"1\" class=\"dataframe\">\n",
       "  <thead>\n",
       "    <tr style=\"text-align: right;\">\n",
       "      <th></th>\n",
       "      <th>Model</th>\n",
       "      <th>Accuracy</th>\n",
       "      <th>Precision</th>\n",
       "      <th>Recall</th>\n",
       "      <th>F1 Score</th>\n",
       "    </tr>\n",
       "  </thead>\n",
       "  <tbody>\n",
       "    <tr>\n",
       "      <th>0</th>\n",
       "      <td>Logistic Regression</td>\n",
       "      <td>0.965152</td>\n",
       "      <td>0.666667</td>\n",
       "      <td>0.230769</td>\n",
       "      <td>0.342857</td>\n",
       "    </tr>\n",
       "  </tbody>\n",
       "</table>\n",
       "</div>"
      ],
      "text/plain": [
       "                 Model  Accuracy  Precision    Recall  F1 Score\n",
       "0  Logistic Regression  0.965152   0.666667  0.230769  0.342857"
      ]
     },
     "execution_count": 22,
     "metadata": {},
     "output_type": "execute_result"
    }
   ],
   "source": [
    "sfm_rfe_18_1=SFM_RFE_featrue_selection(X1,y1)\n",
    "rank1_18= best_Model(X1[sfm_rfe_18_1],y1,pen,c,solver)\n",
    "best_pen,best_c,best_sol = best_Model(X1[sfm_rfe_18_1],y1,pen,c,solver,hyper_param=True)\n",
    "coef1_18,evaluation1_18=LogicResult_allcoef(X1[sfm_rfe_18_1],y1,best_pen,best_c,best_sol)\n",
    "evaluation1_18"
   ]
  },
  {
   "cell_type": "code",
   "execution_count": 23,
   "metadata": {},
   "outputs": [
    {
     "data": {
      "text/html": [
       "<div>\n",
       "<style scoped>\n",
       "    .dataframe tbody tr th:only-of-type {\n",
       "        vertical-align: middle;\n",
       "    }\n",
       "\n",
       "    .dataframe tbody tr th {\n",
       "        vertical-align: top;\n",
       "    }\n",
       "\n",
       "    .dataframe thead th {\n",
       "        text-align: right;\n",
       "    }\n",
       "</style>\n",
       "<table border=\"1\" class=\"dataframe\">\n",
       "  <thead>\n",
       "    <tr style=\"text-align: right;\">\n",
       "      <th></th>\n",
       "      <th>accuracy</th>\n",
       "      <th>precision</th>\n",
       "      <th>recall</th>\n",
       "      <th>f1</th>\n",
       "      <th>penalty</th>\n",
       "      <th>c</th>\n",
       "      <th>solver</th>\n",
       "    </tr>\n",
       "  </thead>\n",
       "  <tbody>\n",
       "    <tr>\n",
       "      <th>Logistic l2 C=1 saga</th>\n",
       "      <td>0.964848</td>\n",
       "      <td>0.659524</td>\n",
       "      <td>0.276923</td>\n",
       "      <td>0.376112</td>\n",
       "      <td>l2</td>\n",
       "      <td>1.0</td>\n",
       "      <td>saga</td>\n",
       "    </tr>\n",
       "  </tbody>\n",
       "</table>\n",
       "</div>"
      ],
      "text/plain": [
       "                      accuracy precision    recall        f1 penalty    c  \\\n",
       "Logistic l2 C=1 saga  0.964848  0.659524  0.276923  0.376112      l2  1.0   \n",
       "\n",
       "                     solver  \n",
       "Logistic l2 C=1 saga   saga  "
      ]
     },
     "execution_count": 23,
     "metadata": {},
     "output_type": "execute_result"
    }
   ],
   "source": [
    "rank1_18.head(1)"
   ]
  },
  {
   "cell_type": "markdown",
   "metadata": {},
   "source": [
    "### Type 2 Model"
   ]
  },
  {
   "cell_type": "code",
   "execution_count": 24,
   "metadata": {},
   "outputs": [
    {
     "data": {
      "text/html": [
       "<div>\n",
       "<style scoped>\n",
       "    .dataframe tbody tr th:only-of-type {\n",
       "        vertical-align: middle;\n",
       "    }\n",
       "\n",
       "    .dataframe tbody tr th {\n",
       "        vertical-align: top;\n",
       "    }\n",
       "\n",
       "    .dataframe thead th {\n",
       "        text-align: right;\n",
       "    }\n",
       "</style>\n",
       "<table border=\"1\" class=\"dataframe\">\n",
       "  <thead>\n",
       "    <tr style=\"text-align: right;\">\n",
       "      <th></th>\n",
       "      <th>Model</th>\n",
       "      <th>Accuracy</th>\n",
       "      <th>Precision</th>\n",
       "      <th>Recall</th>\n",
       "      <th>F1 Score</th>\n",
       "    </tr>\n",
       "  </thead>\n",
       "  <tbody>\n",
       "    <tr>\n",
       "      <th>0</th>\n",
       "      <td>Logistic Regression</td>\n",
       "      <td>0.939701</td>\n",
       "      <td>0.866667</td>\n",
       "      <td>0.252918</td>\n",
       "      <td>0.391566</td>\n",
       "    </tr>\n",
       "  </tbody>\n",
       "</table>\n",
       "</div>"
      ],
      "text/plain": [
       "                 Model  Accuracy  Precision    Recall  F1 Score\n",
       "0  Logistic Regression  0.939701   0.866667  0.252918  0.391566"
      ]
     },
     "execution_count": 24,
     "metadata": {},
     "output_type": "execute_result"
    }
   ],
   "source": [
    "best_pen,best_c,best_sol = best_Model(X1,y1,pen,c,solver,hyper_param=True)\n",
    "coef1_18_next_all,evaluation1_18_next_all=LogicResult_allcoef_next_year(X1,y1,X1_19\\\n",
    "                                                      ,y1_19,best_pen,best_c,best_sol)\n",
    "evaluation1_18_next_all"
   ]
  },
  {
   "cell_type": "code",
   "execution_count": 25,
   "metadata": {},
   "outputs": [
    {
     "data": {
      "text/html": [
       "<div>\n",
       "<style scoped>\n",
       "    .dataframe tbody tr th:only-of-type {\n",
       "        vertical-align: middle;\n",
       "    }\n",
       "\n",
       "    .dataframe tbody tr th {\n",
       "        vertical-align: top;\n",
       "    }\n",
       "\n",
       "    .dataframe thead th {\n",
       "        text-align: right;\n",
       "    }\n",
       "</style>\n",
       "<table border=\"1\" class=\"dataframe\">\n",
       "  <thead>\n",
       "    <tr style=\"text-align: right;\">\n",
       "      <th></th>\n",
       "      <th>Model</th>\n",
       "      <th>Accuracy</th>\n",
       "      <th>Precision</th>\n",
       "      <th>Recall</th>\n",
       "      <th>F1 Score</th>\n",
       "    </tr>\n",
       "  </thead>\n",
       "  <tbody>\n",
       "    <tr>\n",
       "      <th>0</th>\n",
       "      <td>Logistic Regression</td>\n",
       "      <td>0.939403</td>\n",
       "      <td>0.885714</td>\n",
       "      <td>0.241245</td>\n",
       "      <td>0.379205</td>\n",
       "    </tr>\n",
       "  </tbody>\n",
       "</table>\n",
       "</div>"
      ],
      "text/plain": [
       "                 Model  Accuracy  Precision    Recall  F1 Score\n",
       "0  Logistic Regression  0.939403   0.885714  0.241245  0.379205"
      ]
     },
     "execution_count": 25,
     "metadata": {},
     "output_type": "execute_result"
    }
   ],
   "source": [
    "sfm_rfe_18_1_next=SFM_RFE_featrue_selection(X1,y1,fit_all=True)\n",
    "best_pen,best_c,best_sol = best_Model(X1[sfm_rfe_18_1_next],y1,pen,c,solver,hyper_param=True)\n",
    "coef1_18_next,evaluation1_18_next=LogicResult_allcoef_next_year(X1[sfm_rfe_18_1_next],y1,X1_19[sfm_rfe_18_1_next]\\\n",
    "                                                      ,y1_19,best_pen,best_c,best_sol)\n",
    "evaluation1_18_next"
   ]
  },
  {
   "cell_type": "markdown",
   "metadata": {},
   "source": [
    "### Type 3 Model"
   ]
  },
  {
   "cell_type": "code",
   "execution_count": 26,
   "metadata": {},
   "outputs": [
    {
     "data": {
      "text/html": [
       "<div>\n",
       "<style scoped>\n",
       "    .dataframe tbody tr th:only-of-type {\n",
       "        vertical-align: middle;\n",
       "    }\n",
       "\n",
       "    .dataframe tbody tr th {\n",
       "        vertical-align: top;\n",
       "    }\n",
       "\n",
       "    .dataframe thead th {\n",
       "        text-align: right;\n",
       "    }\n",
       "</style>\n",
       "<table border=\"1\" class=\"dataframe\">\n",
       "  <thead>\n",
       "    <tr style=\"text-align: right;\">\n",
       "      <th></th>\n",
       "      <th>Model</th>\n",
       "      <th>Accuracy</th>\n",
       "      <th>Precision</th>\n",
       "      <th>Recall</th>\n",
       "      <th>F1 Score</th>\n",
       "    </tr>\n",
       "  </thead>\n",
       "  <tbody>\n",
       "    <tr>\n",
       "      <th>0</th>\n",
       "      <td>Logistic Regression</td>\n",
       "      <td>0.962687</td>\n",
       "      <td>0.825</td>\n",
       "      <td>0.647059</td>\n",
       "      <td>0.725275</td>\n",
       "    </tr>\n",
       "  </tbody>\n",
       "</table>\n",
       "</div>"
      ],
      "text/plain": [
       "                 Model  Accuracy  Precision    Recall  F1 Score\n",
       "0  Logistic Regression  0.962687      0.825  0.647059  0.725275"
      ]
     },
     "execution_count": 26,
     "metadata": {},
     "output_type": "execute_result"
    }
   ],
   "source": [
    "rank1_19_all= best_Model(X1_19,y1_19,pen,c,solver)\n",
    "best_pen,best_c,best_sol = best_Model(X1_19,y1_19,pen,c,solver,hyper_param=True)\n",
    "coef1_19_all,evaluation1_19_all=LogicResult_allcoef(X1_19,y1_19,best_pen,best_c,best_sol)\n",
    "evaluation1_19_all"
   ]
  },
  {
   "cell_type": "code",
   "execution_count": 27,
   "metadata": {},
   "outputs": [
    {
     "data": {
      "text/html": [
       "<div>\n",
       "<style scoped>\n",
       "    .dataframe tbody tr th:only-of-type {\n",
       "        vertical-align: middle;\n",
       "    }\n",
       "\n",
       "    .dataframe tbody tr th {\n",
       "        vertical-align: top;\n",
       "    }\n",
       "\n",
       "    .dataframe thead th {\n",
       "        text-align: right;\n",
       "    }\n",
       "</style>\n",
       "<table border=\"1\" class=\"dataframe\">\n",
       "  <thead>\n",
       "    <tr style=\"text-align: right;\">\n",
       "      <th></th>\n",
       "      <th>accuracy</th>\n",
       "      <th>precision</th>\n",
       "      <th>recall</th>\n",
       "      <th>f1</th>\n",
       "      <th>penalty</th>\n",
       "      <th>c</th>\n",
       "      <th>solver</th>\n",
       "    </tr>\n",
       "  </thead>\n",
       "  <tbody>\n",
       "    <tr>\n",
       "      <th>Logistic l1 C=1 liblinear</th>\n",
       "      <td>0.957612</td>\n",
       "      <td>0.836026</td>\n",
       "      <td>0.560308</td>\n",
       "      <td>0.667848</td>\n",
       "      <td>l1</td>\n",
       "      <td>1.0</td>\n",
       "      <td>liblinear</td>\n",
       "    </tr>\n",
       "  </tbody>\n",
       "</table>\n",
       "</div>"
      ],
      "text/plain": [
       "                           accuracy precision    recall        f1 penalty  \\\n",
       "Logistic l1 C=1 liblinear  0.957612  0.836026  0.560308  0.667848      l1   \n",
       "\n",
       "                             c     solver  \n",
       "Logistic l1 C=1 liblinear  1.0  liblinear  "
      ]
     },
     "execution_count": 27,
     "metadata": {},
     "output_type": "execute_result"
    }
   ],
   "source": [
    "rank1_19_all.head(1)"
   ]
  },
  {
   "cell_type": "code",
   "execution_count": 28,
   "metadata": {},
   "outputs": [
    {
     "data": {
      "text/html": [
       "<div>\n",
       "<style scoped>\n",
       "    .dataframe tbody tr th:only-of-type {\n",
       "        vertical-align: middle;\n",
       "    }\n",
       "\n",
       "    .dataframe tbody tr th {\n",
       "        vertical-align: top;\n",
       "    }\n",
       "\n",
       "    .dataframe thead th {\n",
       "        text-align: right;\n",
       "    }\n",
       "</style>\n",
       "<table border=\"1\" class=\"dataframe\">\n",
       "  <thead>\n",
       "    <tr style=\"text-align: right;\">\n",
       "      <th></th>\n",
       "      <th>Model</th>\n",
       "      <th>Accuracy</th>\n",
       "      <th>Precision</th>\n",
       "      <th>Recall</th>\n",
       "      <th>F1 Score</th>\n",
       "    </tr>\n",
       "  </thead>\n",
       "  <tbody>\n",
       "    <tr>\n",
       "      <th>0</th>\n",
       "      <td>Logistic Regression</td>\n",
       "      <td>0.965672</td>\n",
       "      <td>0.888889</td>\n",
       "      <td>0.627451</td>\n",
       "      <td>0.735632</td>\n",
       "    </tr>\n",
       "  </tbody>\n",
       "</table>\n",
       "</div>"
      ],
      "text/plain": [
       "                 Model  Accuracy  Precision    Recall  F1 Score\n",
       "0  Logistic Regression  0.965672   0.888889  0.627451  0.735632"
      ]
     },
     "execution_count": 28,
     "metadata": {},
     "output_type": "execute_result"
    }
   ],
   "source": [
    "sfm_rfe_19_1=SFM_RFE_featrue_selection(X1_19,y1_19)\n",
    "rank1_19= best_Model(X1_19[sfm_rfe_19_1],y1_19,pen,c,solver)\n",
    "best_pen,best_c,best_sol = best_Model(X1_19[sfm_rfe_19_1],y1_19,pen,c,solver,hyper_param=True)\n",
    "coef1_19,evaluation1_19=LogicResult_allcoef(X1_19[sfm_rfe_19_1],y1_19,best_pen,best_c,best_sol)\n",
    "evaluation1_19"
   ]
  },
  {
   "cell_type": "code",
   "execution_count": 29,
   "metadata": {},
   "outputs": [
    {
     "data": {
      "text/html": [
       "<div>\n",
       "<style scoped>\n",
       "    .dataframe tbody tr th:only-of-type {\n",
       "        vertical-align: middle;\n",
       "    }\n",
       "\n",
       "    .dataframe tbody tr th {\n",
       "        vertical-align: top;\n",
       "    }\n",
       "\n",
       "    .dataframe thead th {\n",
       "        text-align: right;\n",
       "    }\n",
       "</style>\n",
       "<table border=\"1\" class=\"dataframe\">\n",
       "  <thead>\n",
       "    <tr style=\"text-align: right;\">\n",
       "      <th></th>\n",
       "      <th>accuracy</th>\n",
       "      <th>precision</th>\n",
       "      <th>recall</th>\n",
       "      <th>f1</th>\n",
       "      <th>penalty</th>\n",
       "      <th>c</th>\n",
       "      <th>solver</th>\n",
       "    </tr>\n",
       "  </thead>\n",
       "  <tbody>\n",
       "    <tr>\n",
       "      <th>Logistic l2 C=1 liblinear</th>\n",
       "      <td>0.959403</td>\n",
       "      <td>0.862805</td>\n",
       "      <td>0.560154</td>\n",
       "      <td>0.677214</td>\n",
       "      <td>l2</td>\n",
       "      <td>1.0</td>\n",
       "      <td>liblinear</td>\n",
       "    </tr>\n",
       "  </tbody>\n",
       "</table>\n",
       "</div>"
      ],
      "text/plain": [
       "                           accuracy precision    recall        f1 penalty  \\\n",
       "Logistic l2 C=1 liblinear  0.959403  0.862805  0.560154  0.677214      l2   \n",
       "\n",
       "                             c     solver  \n",
       "Logistic l2 C=1 liblinear  1.0  liblinear  "
      ]
     },
     "execution_count": 29,
     "metadata": {},
     "output_type": "execute_result"
    }
   ],
   "source": [
    "rank1_19.head(1)"
   ]
  },
  {
   "cell_type": "code",
   "execution_count": 30,
   "metadata": {},
   "outputs": [
    {
     "data": {
      "text/plain": [
       "['Recency',\n",
       " 'Aggregate_index',\n",
       " 'PRODUCT_MODEL_mode_Multiple',\n",
       " 'Main_Product_mode_CIJ',\n",
       " 'Main_Product_mode_TTO',\n",
       " 'Lastest_Amt_Ratio',\n",
       " 'Visit_per_TRX']"
      ]
     },
     "execution_count": 30,
     "metadata": {},
     "output_type": "execute_result"
    }
   ],
   "source": [
    "sfm_rfe_18_1"
   ]
  },
  {
   "cell_type": "code",
   "execution_count": 31,
   "metadata": {},
   "outputs": [
    {
     "data": {
      "text/plain": [
       "['Recency',\n",
       " 'Aggregate_index',\n",
       " 'PRODUCT_MODEL_mode_Multiple',\n",
       " 'Main_Product_mode_CIJ',\n",
       " 'Main_Product_mode_TTO',\n",
       " 'Contract',\n",
       " 'Lastest_Amt_Ratio',\n",
       " 'Visit_per_TRX']"
      ]
     },
     "execution_count": 31,
     "metadata": {},
     "output_type": "execute_result"
    }
   ],
   "source": [
    "sfm_rfe_18_1_next"
   ]
  },
  {
   "cell_type": "code",
   "execution_count": 32,
   "metadata": {},
   "outputs": [
    {
     "data": {
      "text/plain": [
       "Index(['CUSTOMER_CLASS_OEM', 'Contract', 'Lastest_Amt_Ratio',\n",
       "       'Main_Product_mode_TTO', 'NO_OF_SVC_INCIDENTS', 'Recency',\n",
       "       'SALES_CHANNEL_mode_Esker', 'Visit_per_TRX'],\n",
       "      dtype='object')"
      ]
     },
     "execution_count": 32,
     "metadata": {},
     "output_type": "execute_result"
    }
   ],
   "source": [
    "sfm_rfe_19_1"
   ]
  },
  {
   "cell_type": "markdown",
   "metadata": {},
   "source": [
    "## Tier 2"
   ]
  },
  {
   "cell_type": "markdown",
   "metadata": {},
   "source": [
    "### Type 1 Model"
   ]
  },
  {
   "cell_type": "code",
   "execution_count": 33,
   "metadata": {},
   "outputs": [
    {
     "data": {
      "text/html": [
       "<div>\n",
       "<style scoped>\n",
       "    .dataframe tbody tr th:only-of-type {\n",
       "        vertical-align: middle;\n",
       "    }\n",
       "\n",
       "    .dataframe tbody tr th {\n",
       "        vertical-align: top;\n",
       "    }\n",
       "\n",
       "    .dataframe thead th {\n",
       "        text-align: right;\n",
       "    }\n",
       "</style>\n",
       "<table border=\"1\" class=\"dataframe\">\n",
       "  <thead>\n",
       "    <tr style=\"text-align: right;\">\n",
       "      <th></th>\n",
       "      <th>Model</th>\n",
       "      <th>Accuracy</th>\n",
       "      <th>Precision</th>\n",
       "      <th>Recall</th>\n",
       "      <th>F1 Score</th>\n",
       "    </tr>\n",
       "  </thead>\n",
       "  <tbody>\n",
       "    <tr>\n",
       "      <th>0</th>\n",
       "      <td>Logistic Regression</td>\n",
       "      <td>0.889485</td>\n",
       "      <td>0.77907</td>\n",
       "      <td>0.443709</td>\n",
       "      <td>0.565401</td>\n",
       "    </tr>\n",
       "  </tbody>\n",
       "</table>\n",
       "</div>"
      ],
      "text/plain": [
       "                 Model  Accuracy  Precision    Recall  F1 Score\n",
       "0  Logistic Regression  0.889485    0.77907  0.443709  0.565401"
      ]
     },
     "execution_count": 33,
     "metadata": {},
     "output_type": "execute_result"
    }
   ],
   "source": [
    "rank2_18_all= best_Model(X2,y2,pen,c,solver)\n",
    "best_pen,best_c,best_sol = best_Model(X2,y2,pen,c,solver,hyper_param=True)\n",
    "coef2_18_all,evaluation2_18_all=LogicResult_allcoef(X2,y2,best_pen,best_c,best_sol)\n",
    "evaluation2_18_all"
   ]
  },
  {
   "cell_type": "code",
   "execution_count": 34,
   "metadata": {
    "scrolled": true
   },
   "outputs": [
    {
     "data": {
      "text/html": [
       "<div>\n",
       "<style scoped>\n",
       "    .dataframe tbody tr th:only-of-type {\n",
       "        vertical-align: middle;\n",
       "    }\n",
       "\n",
       "    .dataframe tbody tr th {\n",
       "        vertical-align: top;\n",
       "    }\n",
       "\n",
       "    .dataframe thead th {\n",
       "        text-align: right;\n",
       "    }\n",
       "</style>\n",
       "<table border=\"1\" class=\"dataframe\">\n",
       "  <thead>\n",
       "    <tr style=\"text-align: right;\">\n",
       "      <th></th>\n",
       "      <th>accuracy</th>\n",
       "      <th>precision</th>\n",
       "      <th>recall</th>\n",
       "      <th>f1</th>\n",
       "      <th>penalty</th>\n",
       "      <th>c</th>\n",
       "      <th>solver</th>\n",
       "    </tr>\n",
       "  </thead>\n",
       "  <tbody>\n",
       "    <tr>\n",
       "      <th>Logistic l2 C=1 liblinear</th>\n",
       "      <td>0.893541</td>\n",
       "      <td>0.790747</td>\n",
       "      <td>0.465316</td>\n",
       "      <td>0.57708</td>\n",
       "      <td>l2</td>\n",
       "      <td>1.0</td>\n",
       "      <td>liblinear</td>\n",
       "    </tr>\n",
       "  </tbody>\n",
       "</table>\n",
       "</div>"
      ],
      "text/plain": [
       "                           accuracy precision    recall       f1 penalty    c  \\\n",
       "Logistic l2 C=1 liblinear  0.893541  0.790747  0.465316  0.57708      l2  1.0   \n",
       "\n",
       "                              solver  \n",
       "Logistic l2 C=1 liblinear  liblinear  "
      ]
     },
     "execution_count": 34,
     "metadata": {},
     "output_type": "execute_result"
    }
   ],
   "source": [
    "rank2_18_all.head(1)"
   ]
  },
  {
   "cell_type": "code",
   "execution_count": 35,
   "metadata": {},
   "outputs": [
    {
     "data": {
      "text/html": [
       "<div>\n",
       "<style scoped>\n",
       "    .dataframe tbody tr th:only-of-type {\n",
       "        vertical-align: middle;\n",
       "    }\n",
       "\n",
       "    .dataframe tbody tr th {\n",
       "        vertical-align: top;\n",
       "    }\n",
       "\n",
       "    .dataframe thead th {\n",
       "        text-align: right;\n",
       "    }\n",
       "</style>\n",
       "<table border=\"1\" class=\"dataframe\">\n",
       "  <thead>\n",
       "    <tr style=\"text-align: right;\">\n",
       "      <th></th>\n",
       "      <th>Model</th>\n",
       "      <th>Accuracy</th>\n",
       "      <th>Precision</th>\n",
       "      <th>Recall</th>\n",
       "      <th>F1 Score</th>\n",
       "    </tr>\n",
       "  </thead>\n",
       "  <tbody>\n",
       "    <tr>\n",
       "      <th>0</th>\n",
       "      <td>Logistic Regression</td>\n",
       "      <td>0.888412</td>\n",
       "      <td>0.783133</td>\n",
       "      <td>0.430464</td>\n",
       "      <td>0.555556</td>\n",
       "    </tr>\n",
       "  </tbody>\n",
       "</table>\n",
       "</div>"
      ],
      "text/plain": [
       "                 Model  Accuracy  Precision    Recall  F1 Score\n",
       "0  Logistic Regression  0.888412   0.783133  0.430464  0.555556"
      ]
     },
     "execution_count": 35,
     "metadata": {},
     "output_type": "execute_result"
    }
   ],
   "source": [
    "sfm_rfe_18_2=SFM_RFE_featrue_selection(X2,y2)\n",
    "rank2_18= best_Model(X2[sfm_rfe_18_2],y2,pen,c,solver)\n",
    "best_pen,best_c,best_sol = best_Model(X2[sfm_rfe_18_2],y2,pen,c,solver,hyper_param=True)\n",
    "coef2_18,evaluation2_18=LogicResult_allcoef(X2[sfm_rfe_18_2],y2,best_pen,best_c,best_sol)\n",
    "evaluation2_18"
   ]
  },
  {
   "cell_type": "code",
   "execution_count": 36,
   "metadata": {},
   "outputs": [
    {
     "data": {
      "text/html": [
       "<div>\n",
       "<style scoped>\n",
       "    .dataframe tbody tr th:only-of-type {\n",
       "        vertical-align: middle;\n",
       "    }\n",
       "\n",
       "    .dataframe tbody tr th {\n",
       "        vertical-align: top;\n",
       "    }\n",
       "\n",
       "    .dataframe thead th {\n",
       "        text-align: right;\n",
       "    }\n",
       "</style>\n",
       "<table border=\"1\" class=\"dataframe\">\n",
       "  <thead>\n",
       "    <tr style=\"text-align: right;\">\n",
       "      <th></th>\n",
       "      <th>accuracy</th>\n",
       "      <th>precision</th>\n",
       "      <th>recall</th>\n",
       "      <th>f1</th>\n",
       "      <th>penalty</th>\n",
       "      <th>c</th>\n",
       "      <th>solver</th>\n",
       "    </tr>\n",
       "  </thead>\n",
       "  <tbody>\n",
       "    <tr>\n",
       "      <th>Logistic l2 C=0.1 liblinear</th>\n",
       "      <td>0.896331</td>\n",
       "      <td>0.812294</td>\n",
       "      <td>0.465368</td>\n",
       "      <td>0.585322</td>\n",
       "      <td>l2</td>\n",
       "      <td>0.1</td>\n",
       "      <td>liblinear</td>\n",
       "    </tr>\n",
       "  </tbody>\n",
       "</table>\n",
       "</div>"
      ],
      "text/plain": [
       "                             accuracy precision    recall        f1 penalty  \\\n",
       "Logistic l2 C=0.1 liblinear  0.896331  0.812294  0.465368  0.585322      l2   \n",
       "\n",
       "                               c     solver  \n",
       "Logistic l2 C=0.1 liblinear  0.1  liblinear  "
      ]
     },
     "execution_count": 36,
     "metadata": {},
     "output_type": "execute_result"
    }
   ],
   "source": [
    "rank2_18.head(1)"
   ]
  },
  {
   "cell_type": "markdown",
   "metadata": {},
   "source": [
    "### Type 2 Model"
   ]
  },
  {
   "cell_type": "code",
   "execution_count": 37,
   "metadata": {},
   "outputs": [
    {
     "data": {
      "text/html": [
       "<div>\n",
       "<style scoped>\n",
       "    .dataframe tbody tr th:only-of-type {\n",
       "        vertical-align: middle;\n",
       "    }\n",
       "\n",
       "    .dataframe tbody tr th {\n",
       "        vertical-align: top;\n",
       "    }\n",
       "\n",
       "    .dataframe thead th {\n",
       "        text-align: right;\n",
       "    }\n",
       "</style>\n",
       "<table border=\"1\" class=\"dataframe\">\n",
       "  <thead>\n",
       "    <tr style=\"text-align: right;\">\n",
       "      <th></th>\n",
       "      <th>Model</th>\n",
       "      <th>Accuracy</th>\n",
       "      <th>Precision</th>\n",
       "      <th>Recall</th>\n",
       "      <th>F1 Score</th>\n",
       "    </tr>\n",
       "  </thead>\n",
       "  <tbody>\n",
       "    <tr>\n",
       "      <th>0</th>\n",
       "      <td>Logistic Regression</td>\n",
       "      <td>0.862921</td>\n",
       "      <td>0.848987</td>\n",
       "      <td>0.432052</td>\n",
       "      <td>0.572671</td>\n",
       "    </tr>\n",
       "  </tbody>\n",
       "</table>\n",
       "</div>"
      ],
      "text/plain": [
       "                 Model  Accuracy  Precision    Recall  F1 Score\n",
       "0  Logistic Regression  0.862921   0.848987  0.432052  0.572671"
      ]
     },
     "execution_count": 37,
     "metadata": {},
     "output_type": "execute_result"
    }
   ],
   "source": [
    "best_pen,best_c,best_sol = best_Model(X2,y2,pen,c,solver,hyper_param=True)\n",
    "coef2_18_next_all,evaluation2_18_next_all=LogicResult_allcoef_next_year(X2,y2,X2_19\\\n",
    "                                                      ,y2_19,best_pen,best_c,best_sol)\n",
    "evaluation2_18_next_all"
   ]
  },
  {
   "cell_type": "code",
   "execution_count": 38,
   "metadata": {},
   "outputs": [
    {
     "data": {
      "text/html": [
       "<div>\n",
       "<style scoped>\n",
       "    .dataframe tbody tr th:only-of-type {\n",
       "        vertical-align: middle;\n",
       "    }\n",
       "\n",
       "    .dataframe tbody tr th {\n",
       "        vertical-align: top;\n",
       "    }\n",
       "\n",
       "    .dataframe thead th {\n",
       "        text-align: right;\n",
       "    }\n",
       "</style>\n",
       "<table border=\"1\" class=\"dataframe\">\n",
       "  <thead>\n",
       "    <tr style=\"text-align: right;\">\n",
       "      <th></th>\n",
       "      <th>Model</th>\n",
       "      <th>Accuracy</th>\n",
       "      <th>Precision</th>\n",
       "      <th>Recall</th>\n",
       "      <th>F1 Score</th>\n",
       "    </tr>\n",
       "  </thead>\n",
       "  <tbody>\n",
       "    <tr>\n",
       "      <th>0</th>\n",
       "      <td>Logistic Regression</td>\n",
       "      <td>0.862323</td>\n",
       "      <td>0.848148</td>\n",
       "      <td>0.429241</td>\n",
       "      <td>0.570006</td>\n",
       "    </tr>\n",
       "  </tbody>\n",
       "</table>\n",
       "</div>"
      ],
      "text/plain": [
       "                 Model  Accuracy  Precision    Recall  F1 Score\n",
       "0  Logistic Regression  0.862323   0.848148  0.429241  0.570006"
      ]
     },
     "execution_count": 38,
     "metadata": {},
     "output_type": "execute_result"
    }
   ],
   "source": [
    "sfm_rfe_18_2_next=SFM_RFE_featrue_selection(X2,y2,fit_all=True)\n",
    "best_pen,best_c,best_sol = best_Model(X2[sfm_rfe_18_2_next],y2,pen,c,solver,hyper_param=True)\n",
    "coef2_18_next,evaluation2_18_next=LogicResult_allcoef_next_year(X2[sfm_rfe_18_2_next],y2,X2_19[sfm_rfe_18_2_next]\\\n",
    "                                                      ,y2_19,best_pen,best_c,best_sol)\n",
    "evaluation2_18_next"
   ]
  },
  {
   "cell_type": "markdown",
   "metadata": {},
   "source": [
    "### Type 3 Model"
   ]
  },
  {
   "cell_type": "code",
   "execution_count": 39,
   "metadata": {},
   "outputs": [
    {
     "data": {
      "text/html": [
       "<div>\n",
       "<style scoped>\n",
       "    .dataframe tbody tr th:only-of-type {\n",
       "        vertical-align: middle;\n",
       "    }\n",
       "\n",
       "    .dataframe tbody tr th {\n",
       "        vertical-align: top;\n",
       "    }\n",
       "\n",
       "    .dataframe thead th {\n",
       "        text-align: right;\n",
       "    }\n",
       "</style>\n",
       "<table border=\"1\" class=\"dataframe\">\n",
       "  <thead>\n",
       "    <tr style=\"text-align: right;\">\n",
       "      <th></th>\n",
       "      <th>Model</th>\n",
       "      <th>Accuracy</th>\n",
       "      <th>Precision</th>\n",
       "      <th>Recall</th>\n",
       "      <th>F1 Score</th>\n",
       "    </tr>\n",
       "  </thead>\n",
       "  <tbody>\n",
       "    <tr>\n",
       "      <th>0</th>\n",
       "      <td>Logistic Regression</td>\n",
       "      <td>0.871514</td>\n",
       "      <td>0.823077</td>\n",
       "      <td>0.502347</td>\n",
       "      <td>0.623907</td>\n",
       "    </tr>\n",
       "  </tbody>\n",
       "</table>\n",
       "</div>"
      ],
      "text/plain": [
       "                 Model  Accuracy  Precision    Recall  F1 Score\n",
       "0  Logistic Regression  0.871514   0.823077  0.502347  0.623907"
      ]
     },
     "execution_count": 39,
     "metadata": {},
     "output_type": "execute_result"
    }
   ],
   "source": [
    "rank2_19_all= best_Model(X2_19,y2_19,pen,c,solver)\n",
    "best_pen,best_c,best_sol = best_Model(X2_19,y2_19,pen,c,solver,hyper_param=True)\n",
    "coef2_19_all,evaluation2_19_all=LogicResult_allcoef(X2_19,y2_19,best_pen,best_c,best_sol)\n",
    "evaluation2_19_all"
   ]
  },
  {
   "cell_type": "code",
   "execution_count": 40,
   "metadata": {},
   "outputs": [
    {
     "data": {
      "text/html": [
       "<div>\n",
       "<style scoped>\n",
       "    .dataframe tbody tr th:only-of-type {\n",
       "        vertical-align: middle;\n",
       "    }\n",
       "\n",
       "    .dataframe tbody tr th {\n",
       "        vertical-align: top;\n",
       "    }\n",
       "\n",
       "    .dataframe thead th {\n",
       "        text-align: right;\n",
       "    }\n",
       "</style>\n",
       "<table border=\"1\" class=\"dataframe\">\n",
       "  <thead>\n",
       "    <tr style=\"text-align: right;\">\n",
       "      <th></th>\n",
       "      <th>accuracy</th>\n",
       "      <th>precision</th>\n",
       "      <th>recall</th>\n",
       "      <th>f1</th>\n",
       "      <th>penalty</th>\n",
       "      <th>c</th>\n",
       "      <th>solver</th>\n",
       "    </tr>\n",
       "  </thead>\n",
       "  <tbody>\n",
       "    <tr>\n",
       "      <th>Logistic l2 C=100 saga</th>\n",
       "      <td>0.878461</td>\n",
       "      <td>0.829577</td>\n",
       "      <td>0.551129</td>\n",
       "      <td>0.653221</td>\n",
       "      <td>l2</td>\n",
       "      <td>100.0</td>\n",
       "      <td>saga</td>\n",
       "    </tr>\n",
       "  </tbody>\n",
       "</table>\n",
       "</div>"
      ],
      "text/plain": [
       "                        accuracy precision    recall        f1 penalty      c  \\\n",
       "Logistic l2 C=100 saga  0.878461  0.829577  0.551129  0.653221      l2  100.0   \n",
       "\n",
       "                       solver  \n",
       "Logistic l2 C=100 saga   saga  "
      ]
     },
     "execution_count": 40,
     "metadata": {},
     "output_type": "execute_result"
    }
   ],
   "source": [
    "rank2_19_all.head(1)"
   ]
  },
  {
   "cell_type": "code",
   "execution_count": 41,
   "metadata": {},
   "outputs": [
    {
     "data": {
      "text/html": [
       "<div>\n",
       "<style scoped>\n",
       "    .dataframe tbody tr th:only-of-type {\n",
       "        vertical-align: middle;\n",
       "    }\n",
       "\n",
       "    .dataframe tbody tr th {\n",
       "        vertical-align: top;\n",
       "    }\n",
       "\n",
       "    .dataframe thead th {\n",
       "        text-align: right;\n",
       "    }\n",
       "</style>\n",
       "<table border=\"1\" class=\"dataframe\">\n",
       "  <thead>\n",
       "    <tr style=\"text-align: right;\">\n",
       "      <th></th>\n",
       "      <th>Model</th>\n",
       "      <th>Accuracy</th>\n",
       "      <th>Precision</th>\n",
       "      <th>Recall</th>\n",
       "      <th>F1 Score</th>\n",
       "    </tr>\n",
       "  </thead>\n",
       "  <tbody>\n",
       "    <tr>\n",
       "      <th>0</th>\n",
       "      <td>Logistic Regression</td>\n",
       "      <td>0.86753</td>\n",
       "      <td>0.822581</td>\n",
       "      <td>0.478873</td>\n",
       "      <td>0.605341</td>\n",
       "    </tr>\n",
       "  </tbody>\n",
       "</table>\n",
       "</div>"
      ],
      "text/plain": [
       "                 Model  Accuracy  Precision    Recall  F1 Score\n",
       "0  Logistic Regression   0.86753   0.822581  0.478873  0.605341"
      ]
     },
     "execution_count": 41,
     "metadata": {},
     "output_type": "execute_result"
    }
   ],
   "source": [
    "sfm_rfe_19_2=SFM_RFE_featrue_selection(X2_19,y2_19)\n",
    "rank2_19= best_Model(X2_19[sfm_rfe_19_2],y2_19,pen,c,solver)\n",
    "best_pen,best_c,best_sol = best_Model(X2_19[sfm_rfe_19_2],y2_19,pen,c,solver,hyper_param=True)\n",
    "coef2_19,evaluation2_19=LogicResult_allcoef(X2_19[sfm_rfe_19_2],y2_19,best_pen,best_c,best_sol)\n",
    "evaluation2_19"
   ]
  },
  {
   "cell_type": "code",
   "execution_count": 42,
   "metadata": {},
   "outputs": [
    {
     "data": {
      "text/html": [
       "<div>\n",
       "<style scoped>\n",
       "    .dataframe tbody tr th:only-of-type {\n",
       "        vertical-align: middle;\n",
       "    }\n",
       "\n",
       "    .dataframe tbody tr th {\n",
       "        vertical-align: top;\n",
       "    }\n",
       "\n",
       "    .dataframe thead th {\n",
       "        text-align: right;\n",
       "    }\n",
       "</style>\n",
       "<table border=\"1\" class=\"dataframe\">\n",
       "  <thead>\n",
       "    <tr style=\"text-align: right;\">\n",
       "      <th></th>\n",
       "      <th>accuracy</th>\n",
       "      <th>precision</th>\n",
       "      <th>recall</th>\n",
       "      <th>f1</th>\n",
       "      <th>penalty</th>\n",
       "      <th>c</th>\n",
       "      <th>solver</th>\n",
       "    </tr>\n",
       "  </thead>\n",
       "  <tbody>\n",
       "    <tr>\n",
       "      <th>Logistic l2 C=10 liblinear</th>\n",
       "      <td>0.880254</td>\n",
       "      <td>0.844537</td>\n",
       "      <td>0.546429</td>\n",
       "      <td>0.654731</td>\n",
       "      <td>l2</td>\n",
       "      <td>10.0</td>\n",
       "      <td>liblinear</td>\n",
       "    </tr>\n",
       "  </tbody>\n",
       "</table>\n",
       "</div>"
      ],
      "text/plain": [
       "                            accuracy precision    recall        f1 penalty  \\\n",
       "Logistic l2 C=10 liblinear  0.880254  0.844537  0.546429  0.654731      l2   \n",
       "\n",
       "                               c     solver  \n",
       "Logistic l2 C=10 liblinear  10.0  liblinear  "
      ]
     },
     "execution_count": 42,
     "metadata": {},
     "output_type": "execute_result"
    }
   ],
   "source": [
    "rank2_19.head(1)"
   ]
  },
  {
   "cell_type": "code",
   "execution_count": 43,
   "metadata": {},
   "outputs": [
    {
     "data": {
      "text/plain": [
       "['Frequency',\n",
       " 'Recency',\n",
       " 'PRODUCT_MODEL_mode_Multiple',\n",
       " 'NO_OF_SVC_INCIDENTS',\n",
       " 'Avg_AMT']"
      ]
     },
     "execution_count": 43,
     "metadata": {},
     "output_type": "execute_result"
    }
   ],
   "source": [
    "sfm_rfe_18_2"
   ]
  },
  {
   "cell_type": "code",
   "execution_count": 44,
   "metadata": {},
   "outputs": [
    {
     "data": {
      "text/plain": [
       "Index(['Avg_AMT', 'Frequency', 'Main_Product_mode_CIJ',\n",
       "       'Main_Product_mode_TIJ', 'Main_Product_mode_TTO', 'NO_OF_SVC_INCIDENTS',\n",
       "       'PRODUCT_MODEL_mode_Multiple', 'Recency'],\n",
       "      dtype='object')"
      ]
     },
     "execution_count": 44,
     "metadata": {},
     "output_type": "execute_result"
    }
   ],
   "source": [
    "sfm_rfe_18_2_next"
   ]
  },
  {
   "cell_type": "code",
   "execution_count": 45,
   "metadata": {},
   "outputs": [
    {
     "data": {
      "text/plain": [
       "['Frequency',\n",
       " 'Recency',\n",
       " 'Main_Product_mode_CIJ',\n",
       " 'Lastest_Amt_Ratio',\n",
       " 'Visit_per_TRX',\n",
       " 'Avg_AMT']"
      ]
     },
     "execution_count": 45,
     "metadata": {},
     "output_type": "execute_result"
    }
   ],
   "source": [
    "sfm_rfe_19_2"
   ]
  },
  {
   "cell_type": "markdown",
   "metadata": {},
   "source": [
    "## Tier 3"
   ]
  },
  {
   "cell_type": "markdown",
   "metadata": {},
   "source": [
    "### Type 1 Model"
   ]
  },
  {
   "cell_type": "code",
   "execution_count": 46,
   "metadata": {},
   "outputs": [
    {
     "data": {
      "text/html": [
       "<div>\n",
       "<style scoped>\n",
       "    .dataframe tbody tr th:only-of-type {\n",
       "        vertical-align: middle;\n",
       "    }\n",
       "\n",
       "    .dataframe tbody tr th {\n",
       "        vertical-align: top;\n",
       "    }\n",
       "\n",
       "    .dataframe thead th {\n",
       "        text-align: right;\n",
       "    }\n",
       "</style>\n",
       "<table border=\"1\" class=\"dataframe\">\n",
       "  <thead>\n",
       "    <tr style=\"text-align: right;\">\n",
       "      <th></th>\n",
       "      <th>Model</th>\n",
       "      <th>Accuracy</th>\n",
       "      <th>Precision</th>\n",
       "      <th>Recall</th>\n",
       "      <th>F1 Score</th>\n",
       "    </tr>\n",
       "  </thead>\n",
       "  <tbody>\n",
       "    <tr>\n",
       "      <th>0</th>\n",
       "      <td>Logistic Regression</td>\n",
       "      <td>0.692593</td>\n",
       "      <td>0.719072</td>\n",
       "      <td>0.830357</td>\n",
       "      <td>0.770718</td>\n",
       "    </tr>\n",
       "  </tbody>\n",
       "</table>\n",
       "</div>"
      ],
      "text/plain": [
       "                 Model  Accuracy  Precision    Recall  F1 Score\n",
       "0  Logistic Regression  0.692593   0.719072  0.830357  0.770718"
      ]
     },
     "execution_count": 46,
     "metadata": {},
     "output_type": "execute_result"
    }
   ],
   "source": [
    "rank3_18_all= best_Model(X3,y3,pen,c,solver)\n",
    "best_pen,best_c,best_sol = best_Model(X3,y3,pen,c,solver,hyper_param=True)\n",
    "coef3_18_all,evaluation3_18_all=LogicResult_allcoef(X3,y3,best_pen,best_c,best_sol)\n",
    "evaluation3_18_all"
   ]
  },
  {
   "cell_type": "code",
   "execution_count": 47,
   "metadata": {
    "scrolled": true
   },
   "outputs": [
    {
     "data": {
      "text/html": [
       "<div>\n",
       "<style scoped>\n",
       "    .dataframe tbody tr th:only-of-type {\n",
       "        vertical-align: middle;\n",
       "    }\n",
       "\n",
       "    .dataframe tbody tr th {\n",
       "        vertical-align: top;\n",
       "    }\n",
       "\n",
       "    .dataframe thead th {\n",
       "        text-align: right;\n",
       "    }\n",
       "</style>\n",
       "<table border=\"1\" class=\"dataframe\">\n",
       "  <thead>\n",
       "    <tr style=\"text-align: right;\">\n",
       "      <th></th>\n",
       "      <th>accuracy</th>\n",
       "      <th>precision</th>\n",
       "      <th>recall</th>\n",
       "      <th>f1</th>\n",
       "      <th>penalty</th>\n",
       "      <th>c</th>\n",
       "      <th>solver</th>\n",
       "    </tr>\n",
       "  </thead>\n",
       "  <tbody>\n",
       "    <tr>\n",
       "      <th>Logistic l2 C=0.01 saga</th>\n",
       "      <td>0.702063</td>\n",
       "      <td>0.751956</td>\n",
       "      <td>0.829819</td>\n",
       "      <td>0.764997</td>\n",
       "      <td>l2</td>\n",
       "      <td>0.01</td>\n",
       "      <td>saga</td>\n",
       "    </tr>\n",
       "  </tbody>\n",
       "</table>\n",
       "</div>"
      ],
      "text/plain": [
       "                         accuracy precision    recall        f1 penalty     c  \\\n",
       "Logistic l2 C=0.01 saga  0.702063  0.751956  0.829819  0.764997      l2  0.01   \n",
       "\n",
       "                        solver  \n",
       "Logistic l2 C=0.01 saga   saga  "
      ]
     },
     "execution_count": 47,
     "metadata": {},
     "output_type": "execute_result"
    }
   ],
   "source": [
    "rank3_18_all.head(1)"
   ]
  },
  {
   "cell_type": "code",
   "execution_count": 48,
   "metadata": {},
   "outputs": [
    {
     "data": {
      "text/html": [
       "<div>\n",
       "<style scoped>\n",
       "    .dataframe tbody tr th:only-of-type {\n",
       "        vertical-align: middle;\n",
       "    }\n",
       "\n",
       "    .dataframe tbody tr th {\n",
       "        vertical-align: top;\n",
       "    }\n",
       "\n",
       "    .dataframe thead th {\n",
       "        text-align: right;\n",
       "    }\n",
       "</style>\n",
       "<table border=\"1\" class=\"dataframe\">\n",
       "  <thead>\n",
       "    <tr style=\"text-align: right;\">\n",
       "      <th></th>\n",
       "      <th>Model</th>\n",
       "      <th>Accuracy</th>\n",
       "      <th>Precision</th>\n",
       "      <th>Recall</th>\n",
       "      <th>F1 Score</th>\n",
       "    </tr>\n",
       "  </thead>\n",
       "  <tbody>\n",
       "    <tr>\n",
       "      <th>0</th>\n",
       "      <td>Logistic Regression</td>\n",
       "      <td>0.690741</td>\n",
       "      <td>0.726542</td>\n",
       "      <td>0.806548</td>\n",
       "      <td>0.764457</td>\n",
       "    </tr>\n",
       "  </tbody>\n",
       "</table>\n",
       "</div>"
      ],
      "text/plain": [
       "                 Model  Accuracy  Precision    Recall  F1 Score\n",
       "0  Logistic Regression  0.690741   0.726542  0.806548  0.764457"
      ]
     },
     "execution_count": 48,
     "metadata": {},
     "output_type": "execute_result"
    }
   ],
   "source": [
    "sfm_rfe_18_3=SFM_RFE_featrue_selection(X3,y3)\n",
    "rank3_18= best_Model(X3[sfm_rfe_18_3],y3,pen,c,solver)\n",
    "best_pen,best_c,best_sol = best_Model(X3[sfm_rfe_18_3],y3,pen,c,solver,hyper_param=True)\n",
    "coef3_18,evaluation3_18=LogicResult_allcoef(X3[sfm_rfe_18_3],y3,best_pen,best_c,best_sol)\n",
    "evaluation3_18"
   ]
  },
  {
   "cell_type": "code",
   "execution_count": 49,
   "metadata": {},
   "outputs": [
    {
     "data": {
      "text/html": [
       "<div>\n",
       "<style scoped>\n",
       "    .dataframe tbody tr th:only-of-type {\n",
       "        vertical-align: middle;\n",
       "    }\n",
       "\n",
       "    .dataframe tbody tr th {\n",
       "        vertical-align: top;\n",
       "    }\n",
       "\n",
       "    .dataframe thead th {\n",
       "        text-align: right;\n",
       "    }\n",
       "</style>\n",
       "<table border=\"1\" class=\"dataframe\">\n",
       "  <thead>\n",
       "    <tr style=\"text-align: right;\">\n",
       "      <th></th>\n",
       "      <th>accuracy</th>\n",
       "      <th>precision</th>\n",
       "      <th>recall</th>\n",
       "      <th>f1</th>\n",
       "      <th>penalty</th>\n",
       "      <th>c</th>\n",
       "      <th>solver</th>\n",
       "    </tr>\n",
       "  </thead>\n",
       "  <tbody>\n",
       "    <tr>\n",
       "      <th>Logistic l2 C=0.01 saga</th>\n",
       "      <td>0.707255</td>\n",
       "      <td>0.753009</td>\n",
       "      <td>0.838772</td>\n",
       "      <td>0.771437</td>\n",
       "      <td>l2</td>\n",
       "      <td>0.01</td>\n",
       "      <td>saga</td>\n",
       "    </tr>\n",
       "  </tbody>\n",
       "</table>\n",
       "</div>"
      ],
      "text/plain": [
       "                         accuracy precision    recall        f1 penalty     c  \\\n",
       "Logistic l2 C=0.01 saga  0.707255  0.753009  0.838772  0.771437      l2  0.01   \n",
       "\n",
       "                        solver  \n",
       "Logistic l2 C=0.01 saga   saga  "
      ]
     },
     "execution_count": 49,
     "metadata": {},
     "output_type": "execute_result"
    }
   ],
   "source": [
    "rank3_18.head(1)"
   ]
  },
  {
   "cell_type": "markdown",
   "metadata": {},
   "source": [
    "### Type 2 Model"
   ]
  },
  {
   "cell_type": "code",
   "execution_count": 50,
   "metadata": {},
   "outputs": [
    {
     "data": {
      "text/html": [
       "<div>\n",
       "<style scoped>\n",
       "    .dataframe tbody tr th:only-of-type {\n",
       "        vertical-align: middle;\n",
       "    }\n",
       "\n",
       "    .dataframe tbody tr th {\n",
       "        vertical-align: top;\n",
       "    }\n",
       "\n",
       "    .dataframe thead th {\n",
       "        text-align: right;\n",
       "    }\n",
       "</style>\n",
       "<table border=\"1\" class=\"dataframe\">\n",
       "  <thead>\n",
       "    <tr style=\"text-align: right;\">\n",
       "      <th></th>\n",
       "      <th>Model</th>\n",
       "      <th>Accuracy</th>\n",
       "      <th>Precision</th>\n",
       "      <th>Recall</th>\n",
       "      <th>F1 Score</th>\n",
       "    </tr>\n",
       "  </thead>\n",
       "  <tbody>\n",
       "    <tr>\n",
       "      <th>0</th>\n",
       "      <td>Logistic Regression</td>\n",
       "      <td>0.757126</td>\n",
       "      <td>0.751295</td>\n",
       "      <td>0.885496</td>\n",
       "      <td>0.812894</td>\n",
       "    </tr>\n",
       "  </tbody>\n",
       "</table>\n",
       "</div>"
      ],
      "text/plain": [
       "                 Model  Accuracy  Precision    Recall  F1 Score\n",
       "0  Logistic Regression  0.757126   0.751295  0.885496  0.812894"
      ]
     },
     "execution_count": 50,
     "metadata": {},
     "output_type": "execute_result"
    }
   ],
   "source": [
    "best_pen,best_c,best_sol = best_Model(X3,y3,pen,c,solver,hyper_param=True)\n",
    "coef3_18_next_all,evaluation3_18_next_all=LogicResult_allcoef_next_year(X3,y3,X3_19\\\n",
    "                                                      ,y3_19,best_pen,best_c,best_sol)\n",
    "evaluation3_18_next_all"
   ]
  },
  {
   "cell_type": "code",
   "execution_count": 51,
   "metadata": {},
   "outputs": [
    {
     "data": {
      "text/html": [
       "<div>\n",
       "<style scoped>\n",
       "    .dataframe tbody tr th:only-of-type {\n",
       "        vertical-align: middle;\n",
       "    }\n",
       "\n",
       "    .dataframe tbody tr th {\n",
       "        vertical-align: top;\n",
       "    }\n",
       "\n",
       "    .dataframe thead th {\n",
       "        text-align: right;\n",
       "    }\n",
       "</style>\n",
       "<table border=\"1\" class=\"dataframe\">\n",
       "  <thead>\n",
       "    <tr style=\"text-align: right;\">\n",
       "      <th></th>\n",
       "      <th>Model</th>\n",
       "      <th>Accuracy</th>\n",
       "      <th>Precision</th>\n",
       "      <th>Recall</th>\n",
       "      <th>F1 Score</th>\n",
       "    </tr>\n",
       "  </thead>\n",
       "  <tbody>\n",
       "    <tr>\n",
       "      <th>0</th>\n",
       "      <td>Logistic Regression</td>\n",
       "      <td>0.755609</td>\n",
       "      <td>0.747755</td>\n",
       "      <td>0.890076</td>\n",
       "      <td>0.812732</td>\n",
       "    </tr>\n",
       "  </tbody>\n",
       "</table>\n",
       "</div>"
      ],
      "text/plain": [
       "                 Model  Accuracy  Precision    Recall  F1 Score\n",
       "0  Logistic Regression  0.755609   0.747755  0.890076  0.812732"
      ]
     },
     "execution_count": 51,
     "metadata": {},
     "output_type": "execute_result"
    }
   ],
   "source": [
    "sfm_rfe_18_3_next=SFM_RFE_featrue_selection(X3,y3,fit_all=True)\n",
    "best_pen,best_c,best_sol = best_Model(X3[sfm_rfe_18_3_next],y3,pen,c,solver,hyper_param=True)\n",
    "coef3_18_next,evaluation3_18_next=LogicResult_allcoef_next_year(X3[sfm_rfe_18_3_next],y3,X3_19[sfm_rfe_18_3_next]\\\n",
    "                                                      ,y3_19,best_pen,best_c,best_sol)\n",
    "evaluation3_18_next"
   ]
  },
  {
   "cell_type": "markdown",
   "metadata": {},
   "source": [
    "### Type 3 Model"
   ]
  },
  {
   "cell_type": "code",
   "execution_count": 52,
   "metadata": {},
   "outputs": [
    {
     "data": {
      "text/html": [
       "<div>\n",
       "<style scoped>\n",
       "    .dataframe tbody tr th:only-of-type {\n",
       "        vertical-align: middle;\n",
       "    }\n",
       "\n",
       "    .dataframe tbody tr th {\n",
       "        vertical-align: top;\n",
       "    }\n",
       "\n",
       "    .dataframe thead th {\n",
       "        text-align: right;\n",
       "    }\n",
       "</style>\n",
       "<table border=\"1\" class=\"dataframe\">\n",
       "  <thead>\n",
       "    <tr style=\"text-align: right;\">\n",
       "      <th></th>\n",
       "      <th>Model</th>\n",
       "      <th>Accuracy</th>\n",
       "      <th>Precision</th>\n",
       "      <th>Recall</th>\n",
       "      <th>F1 Score</th>\n",
       "    </tr>\n",
       "  </thead>\n",
       "  <tbody>\n",
       "    <tr>\n",
       "      <th>0</th>\n",
       "      <td>Logistic Regression</td>\n",
       "      <td>0.745455</td>\n",
       "      <td>0.762238</td>\n",
       "      <td>0.832061</td>\n",
       "      <td>0.79562</td>\n",
       "    </tr>\n",
       "  </tbody>\n",
       "</table>\n",
       "</div>"
      ],
      "text/plain": [
       "                 Model  Accuracy  Precision    Recall  F1 Score\n",
       "0  Logistic Regression  0.745455   0.762238  0.832061   0.79562"
      ]
     },
     "execution_count": 52,
     "metadata": {},
     "output_type": "execute_result"
    }
   ],
   "source": [
    "rank3_19_all= best_Model(X3_19,y3_19,pen,c,solver)\n",
    "best_pen,best_c,best_sol = best_Model(X3_19,y3_19,pen,c,solver,hyper_param=True)\n",
    "coef3_19_all,evaluation3_19_all=LogicResult_allcoef(X3_19,y3_19,best_pen,best_c,best_sol)\n",
    "evaluation3_19_all"
   ]
  },
  {
   "cell_type": "code",
   "execution_count": 53,
   "metadata": {},
   "outputs": [
    {
     "data": {
      "text/html": [
       "<div>\n",
       "<style scoped>\n",
       "    .dataframe tbody tr th:only-of-type {\n",
       "        vertical-align: middle;\n",
       "    }\n",
       "\n",
       "    .dataframe tbody tr th {\n",
       "        vertical-align: top;\n",
       "    }\n",
       "\n",
       "    .dataframe thead th {\n",
       "        text-align: right;\n",
       "    }\n",
       "</style>\n",
       "<table border=\"1\" class=\"dataframe\">\n",
       "  <thead>\n",
       "    <tr style=\"text-align: right;\">\n",
       "      <th></th>\n",
       "      <th>accuracy</th>\n",
       "      <th>precision</th>\n",
       "      <th>recall</th>\n",
       "      <th>f1</th>\n",
       "      <th>penalty</th>\n",
       "      <th>c</th>\n",
       "      <th>solver</th>\n",
       "    </tr>\n",
       "  </thead>\n",
       "  <tbody>\n",
       "    <tr>\n",
       "      <th>Logistic l2 C=0.01 saga</th>\n",
       "      <td>0.740162</td>\n",
       "      <td>0.793575</td>\n",
       "      <td>0.817735</td>\n",
       "      <td>0.779527</td>\n",
       "      <td>l2</td>\n",
       "      <td>0.01</td>\n",
       "      <td>saga</td>\n",
       "    </tr>\n",
       "  </tbody>\n",
       "</table>\n",
       "</div>"
      ],
      "text/plain": [
       "                         accuracy precision    recall        f1 penalty     c  \\\n",
       "Logistic l2 C=0.01 saga  0.740162  0.793575  0.817735  0.779527      l2  0.01   \n",
       "\n",
       "                        solver  \n",
       "Logistic l2 C=0.01 saga   saga  "
      ]
     },
     "execution_count": 53,
     "metadata": {},
     "output_type": "execute_result"
    }
   ],
   "source": [
    "rank3_19_all.head(1)"
   ]
  },
  {
   "cell_type": "code",
   "execution_count": 54,
   "metadata": {},
   "outputs": [
    {
     "data": {
      "text/html": [
       "<div>\n",
       "<style scoped>\n",
       "    .dataframe tbody tr th:only-of-type {\n",
       "        vertical-align: middle;\n",
       "    }\n",
       "\n",
       "    .dataframe tbody tr th {\n",
       "        vertical-align: top;\n",
       "    }\n",
       "\n",
       "    .dataframe thead th {\n",
       "        text-align: right;\n",
       "    }\n",
       "</style>\n",
       "<table border=\"1\" class=\"dataframe\">\n",
       "  <thead>\n",
       "    <tr style=\"text-align: right;\">\n",
       "      <th></th>\n",
       "      <th>Model</th>\n",
       "      <th>Accuracy</th>\n",
       "      <th>Precision</th>\n",
       "      <th>Recall</th>\n",
       "      <th>F1 Score</th>\n",
       "    </tr>\n",
       "  </thead>\n",
       "  <tbody>\n",
       "    <tr>\n",
       "      <th>0</th>\n",
       "      <td>Logistic Regression</td>\n",
       "      <td>0.75303</td>\n",
       "      <td>0.763761</td>\n",
       "      <td>0.847328</td>\n",
       "      <td>0.803378</td>\n",
       "    </tr>\n",
       "  </tbody>\n",
       "</table>\n",
       "</div>"
      ],
      "text/plain": [
       "                 Model  Accuracy  Precision    Recall  F1 Score\n",
       "0  Logistic Regression   0.75303   0.763761  0.847328  0.803378"
      ]
     },
     "execution_count": 54,
     "metadata": {},
     "output_type": "execute_result"
    }
   ],
   "source": [
    "sfm_rfe_19_3=SFM_RFE_featrue_selection(X3_19,y3_19)\n",
    "rank3_19= best_Model(X3_19[sfm_rfe_19_3],y3_19,pen,c,solver)\n",
    "best_pen,best_c,best_sol = best_Model(X3_19[sfm_rfe_19_3],y3_19,pen,c,solver,hyper_param=True)\n",
    "coef3_19,evaluation3_19=LogicResult_allcoef(X3_19[sfm_rfe_19_3],y3_19,best_pen,best_c,best_sol)\n",
    "evaluation3_19"
   ]
  },
  {
   "cell_type": "code",
   "execution_count": 55,
   "metadata": {},
   "outputs": [
    {
     "data": {
      "text/html": [
       "<div>\n",
       "<style scoped>\n",
       "    .dataframe tbody tr th:only-of-type {\n",
       "        vertical-align: middle;\n",
       "    }\n",
       "\n",
       "    .dataframe tbody tr th {\n",
       "        vertical-align: top;\n",
       "    }\n",
       "\n",
       "    .dataframe thead th {\n",
       "        text-align: right;\n",
       "    }\n",
       "</style>\n",
       "<table border=\"1\" class=\"dataframe\">\n",
       "  <thead>\n",
       "    <tr style=\"text-align: right;\">\n",
       "      <th></th>\n",
       "      <th>accuracy</th>\n",
       "      <th>precision</th>\n",
       "      <th>recall</th>\n",
       "      <th>f1</th>\n",
       "      <th>penalty</th>\n",
       "      <th>c</th>\n",
       "      <th>solver</th>\n",
       "    </tr>\n",
       "  </thead>\n",
       "  <tbody>\n",
       "    <tr>\n",
       "      <th>Logistic l2 C=0.01 saga</th>\n",
       "      <td>0.751387</td>\n",
       "      <td>0.799654</td>\n",
       "      <td>0.828962</td>\n",
       "      <td>0.792391</td>\n",
       "      <td>l2</td>\n",
       "      <td>0.01</td>\n",
       "      <td>saga</td>\n",
       "    </tr>\n",
       "  </tbody>\n",
       "</table>\n",
       "</div>"
      ],
      "text/plain": [
       "                         accuracy precision    recall        f1 penalty     c  \\\n",
       "Logistic l2 C=0.01 saga  0.751387  0.799654  0.828962  0.792391      l2  0.01   \n",
       "\n",
       "                        solver  \n",
       "Logistic l2 C=0.01 saga   saga  "
      ]
     },
     "execution_count": 55,
     "metadata": {},
     "output_type": "execute_result"
    }
   ],
   "source": [
    "rank3_19.head(1)"
   ]
  },
  {
   "cell_type": "code",
   "execution_count": 56,
   "metadata": {},
   "outputs": [
    {
     "data": {
      "text/plain": [
       "['Frequency',\n",
       " 'Recency',\n",
       " 'CUSTOMER_CLASS_DISTRIBUTOR',\n",
       " 'CUSTOMER_CLASS_OEM',\n",
       " 'Avg_AMT',\n",
       " 'Avg_Duration']"
      ]
     },
     "execution_count": 56,
     "metadata": {},
     "output_type": "execute_result"
    }
   ],
   "source": [
    "sfm_rfe_18_3"
   ]
  },
  {
   "cell_type": "code",
   "execution_count": 57,
   "metadata": {},
   "outputs": [
    {
     "data": {
      "text/plain": [
       "Index(['Avg_AMT', 'Avg_Duration', 'CUSTOMER_CLASS_OEM', 'Frequency',\n",
       "       'Main_Product_mode_CIJ', 'Recency'],\n",
       "      dtype='object')"
      ]
     },
     "execution_count": 57,
     "metadata": {},
     "output_type": "execute_result"
    }
   ],
   "source": [
    "sfm_rfe_18_3_next"
   ]
  },
  {
   "cell_type": "code",
   "execution_count": 58,
   "metadata": {},
   "outputs": [
    {
     "data": {
      "text/plain": [
       "['Frequency',\n",
       " 'Recency',\n",
       " 'CUSTOMER_CLASS_OEM',\n",
       " 'Visit_per_TRX',\n",
       " 'Avg_AMT',\n",
       " 'Avg_Duration']"
      ]
     },
     "execution_count": 58,
     "metadata": {},
     "output_type": "execute_result"
    }
   ],
   "source": [
    "sfm_rfe_19_3"
   ]
  }
 ],
 "metadata": {
  "kernelspec": {
   "display_name": "Python 3",
   "language": "python",
   "name": "python3"
  },
  "language_info": {
   "codemirror_mode": {
    "name": "ipython",
    "version": 3
   },
   "file_extension": ".py",
   "mimetype": "text/x-python",
   "name": "python",
   "nbconvert_exporter": "python",
   "pygments_lexer": "ipython3",
   "version": "3.7.6"
  },
  "varInspector": {
   "cols": {
    "lenName": 16,
    "lenType": 16,
    "lenVar": 40
   },
   "kernels_config": {
    "python": {
     "delete_cmd_postfix": "",
     "delete_cmd_prefix": "del ",
     "library": "var_list.py",
     "varRefreshCmd": "print(var_dic_list())"
    },
    "r": {
     "delete_cmd_postfix": ") ",
     "delete_cmd_prefix": "rm(",
     "library": "var_list.r",
     "varRefreshCmd": "cat(var_dic_list()) "
    }
   },
   "types_to_exclude": [
    "module",
    "function",
    "builtin_function_or_method",
    "instance",
    "_Feature"
   ],
   "window_display": false
  }
 },
 "nbformat": 4,
 "nbformat_minor": 4
}
